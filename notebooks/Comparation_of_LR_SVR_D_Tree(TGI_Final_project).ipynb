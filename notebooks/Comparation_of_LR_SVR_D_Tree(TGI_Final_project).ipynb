{
  "cells": [
    {
      "cell_type": "code",
      "execution_count": null,
      "metadata": {
        "id": "T2lRZnUAd-q6"
      },
      "outputs": [],
      "source": [
        "import numpy as np \n",
        "import pandas as pd \n",
        "import sklearn \n",
        "import matplotlib.pyplot as plt\n",
        "\n",
        "from sklearn import preprocessing \n",
        "from sklearn.model_selection import train_test_split\n",
        "from sklearn.linear_model import LinearRegression \n"
      ]
    },
    {
      "cell_type": "code",
      "execution_count": null,
      "metadata": {
        "colab": {
          "base_uri": "https://localhost:8080/",
          "height": 73,
          "resources": {
            "http://localhost:8080/nbextensions/google.colab/files.js": {
              "data": "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",
              "headers": [
                [
                  "content-type",
                  "application/javascript"
                ]
              ],
              "ok": true,
              "status": 200,
              "status_text": ""
            }
          }
        },
        "id": "3oNt-P7WeZrJ",
        "outputId": "21604eb6-fe00-443c-9cd7-dd279e880063"
      },
      "outputs": [
        {
          "data": {
            "text/html": [
              "\n",
              "     <input type=\"file\" id=\"files-dc07d385-12e8-4c11-afbc-80a1285e7947\" name=\"files[]\" multiple disabled\n",
              "        style=\"border:none\" />\n",
              "     <output id=\"result-dc07d385-12e8-4c11-afbc-80a1285e7947\">\n",
              "      Upload widget is only available when the cell has been executed in the\n",
              "      current browser session. Please rerun this cell to enable.\n",
              "      </output>\n",
              "      <script src=\"/nbextensions/google.colab/files.js\"></script> "
            ],
            "text/plain": [
              "<IPython.core.display.HTML object>"
            ]
          },
          "metadata": {},
          "output_type": "display_data"
        },
        {
          "name": "stdout",
          "output_type": "stream",
          "text": [
            "Saving Bitcoin Historical Data - Investing.com (2).csv to Bitcoin Historical Data - Investing.com (2).csv\n"
          ]
        }
      ],
      "source": [
        "from google.colab import files \n",
        "file = files.upload()"
      ]
    },
    {
      "cell_type": "code",
      "execution_count": null,
      "metadata": {
        "colab": {
          "base_uri": "https://localhost:8080/",
          "height": 206
        },
        "id": "-9iiwW3Teif6",
        "outputId": "93ced45b-6796-41e0-fd8f-1cc319943919"
      },
      "outputs": [
        {
          "data": {
            "text/html": [
              "\n",
              "  <div id=\"df-25a69968-579f-49c2-a1c1-03dac7fbadef\">\n",
              "    <div class=\"colab-df-container\">\n",
              "      <div>\n",
              "<style scoped>\n",
              "    .dataframe tbody tr th:only-of-type {\n",
              "        vertical-align: middle;\n",
              "    }\n",
              "\n",
              "    .dataframe tbody tr th {\n",
              "        vertical-align: top;\n",
              "    }\n",
              "\n",
              "    .dataframe thead th {\n",
              "        text-align: right;\n",
              "    }\n",
              "</style>\n",
              "<table border=\"1\" class=\"dataframe\">\n",
              "  <thead>\n",
              "    <tr style=\"text-align: right;\">\n",
              "      <th></th>\n",
              "      <th>Date</th>\n",
              "      <th>Price</th>\n",
              "      <th>Open</th>\n",
              "      <th>High</th>\n",
              "      <th>Low</th>\n",
              "      <th>Vol.</th>\n",
              "      <th>Change %</th>\n",
              "    </tr>\n",
              "  </thead>\n",
              "  <tbody>\n",
              "    <tr>\n",
              "      <th>0</th>\n",
              "      <td>Jul 31, 2022</td>\n",
              "      <td>23,303.4</td>\n",
              "      <td>23,634.2</td>\n",
              "      <td>24,179.3</td>\n",
              "      <td>23,236.2</td>\n",
              "      <td>138.84K</td>\n",
              "      <td>-1.40%</td>\n",
              "    </tr>\n",
              "    <tr>\n",
              "      <th>1</th>\n",
              "      <td>Jul 30, 2022</td>\n",
              "      <td>23,634.2</td>\n",
              "      <td>23,774.2</td>\n",
              "      <td>24,605.3</td>\n",
              "      <td>23,521.8</td>\n",
              "      <td>168.72K</td>\n",
              "      <td>-0.59%</td>\n",
              "    </tr>\n",
              "    <tr>\n",
              "      <th>2</th>\n",
              "      <td>Jul 29, 2022</td>\n",
              "      <td>23,774.3</td>\n",
              "      <td>23,850.2</td>\n",
              "      <td>24,340.0</td>\n",
              "      <td>23,451.4</td>\n",
              "      <td>221.66K</td>\n",
              "      <td>-0.32%</td>\n",
              "    </tr>\n",
              "    <tr>\n",
              "      <th>3</th>\n",
              "      <td>Jul 28, 2022</td>\n",
              "      <td>23,850.0</td>\n",
              "      <td>22,957.7</td>\n",
              "      <td>24,190.5</td>\n",
              "      <td>22,611.6</td>\n",
              "      <td>268.32K</td>\n",
              "      <td>3.88%</td>\n",
              "    </tr>\n",
              "    <tr>\n",
              "      <th>4</th>\n",
              "      <td>Jul 27, 2022</td>\n",
              "      <td>22,958.3</td>\n",
              "      <td>21,248.0</td>\n",
              "      <td>23,027.8</td>\n",
              "      <td>21,047.5</td>\n",
              "      <td>242.66K</td>\n",
              "      <td>8.05%</td>\n",
              "    </tr>\n",
              "  </tbody>\n",
              "</table>\n",
              "</div>\n",
              "      <button class=\"colab-df-convert\" onclick=\"convertToInteractive('df-25a69968-579f-49c2-a1c1-03dac7fbadef')\"\n",
              "              title=\"Convert this dataframe to an interactive table.\"\n",
              "              style=\"display:none;\">\n",
              "        \n",
              "  <svg xmlns=\"http://www.w3.org/2000/svg\" height=\"24px\"viewBox=\"0 0 24 24\"\n",
              "       width=\"24px\">\n",
              "    <path d=\"M0 0h24v24H0V0z\" fill=\"none\"/>\n",
              "    <path d=\"M18.56 5.44l.94 2.06.94-2.06 2.06-.94-2.06-.94-.94-2.06-.94 2.06-2.06.94zm-11 1L8.5 8.5l.94-2.06 2.06-.94-2.06-.94L8.5 2.5l-.94 2.06-2.06.94zm10 10l.94 2.06.94-2.06 2.06-.94-2.06-.94-.94-2.06-.94 2.06-2.06.94z\"/><path d=\"M17.41 7.96l-1.37-1.37c-.4-.4-.92-.59-1.43-.59-.52 0-1.04.2-1.43.59L10.3 9.45l-7.72 7.72c-.78.78-.78 2.05 0 2.83L4 21.41c.39.39.9.59 1.41.59.51 0 1.02-.2 1.41-.59l7.78-7.78 2.81-2.81c.8-.78.8-2.07 0-2.86zM5.41 20L4 18.59l7.72-7.72 1.47 1.35L5.41 20z\"/>\n",
              "  </svg>\n",
              "      </button>\n",
              "      \n",
              "  <style>\n",
              "    .colab-df-container {\n",
              "      display:flex;\n",
              "      flex-wrap:wrap;\n",
              "      gap: 12px;\n",
              "    }\n",
              "\n",
              "    .colab-df-convert {\n",
              "      background-color: #E8F0FE;\n",
              "      border: none;\n",
              "      border-radius: 50%;\n",
              "      cursor: pointer;\n",
              "      display: none;\n",
              "      fill: #1967D2;\n",
              "      height: 32px;\n",
              "      padding: 0 0 0 0;\n",
              "      width: 32px;\n",
              "    }\n",
              "\n",
              "    .colab-df-convert:hover {\n",
              "      background-color: #E2EBFA;\n",
              "      box-shadow: 0px 1px 2px rgba(60, 64, 67, 0.3), 0px 1px 3px 1px rgba(60, 64, 67, 0.15);\n",
              "      fill: #174EA6;\n",
              "    }\n",
              "\n",
              "    [theme=dark] .colab-df-convert {\n",
              "      background-color: #3B4455;\n",
              "      fill: #D2E3FC;\n",
              "    }\n",
              "\n",
              "    [theme=dark] .colab-df-convert:hover {\n",
              "      background-color: #434B5C;\n",
              "      box-shadow: 0px 1px 3px 1px rgba(0, 0, 0, 0.15);\n",
              "      filter: drop-shadow(0px 1px 2px rgba(0, 0, 0, 0.3));\n",
              "      fill: #FFFFFF;\n",
              "    }\n",
              "  </style>\n",
              "\n",
              "      <script>\n",
              "        const buttonEl =\n",
              "          document.querySelector('#df-25a69968-579f-49c2-a1c1-03dac7fbadef button.colab-df-convert');\n",
              "        buttonEl.style.display =\n",
              "          google.colab.kernel.accessAllowed ? 'block' : 'none';\n",
              "\n",
              "        async function convertToInteractive(key) {\n",
              "          const element = document.querySelector('#df-25a69968-579f-49c2-a1c1-03dac7fbadef');\n",
              "          const dataTable =\n",
              "            await google.colab.kernel.invokeFunction('convertToInteractive',\n",
              "                                                     [key], {});\n",
              "          if (!dataTable) return;\n",
              "\n",
              "          const docLinkHtml = 'Like what you see? Visit the ' +\n",
              "            '<a target=\"_blank\" href=https://colab.research.google.com/notebooks/data_table.ipynb>data table notebook</a>'\n",
              "            + ' to learn more about interactive tables.';\n",
              "          element.innerHTML = '';\n",
              "          dataTable['output_type'] = 'display_data';\n",
              "          await google.colab.output.renderOutput(dataTable, element);\n",
              "          const docLink = document.createElement('div');\n",
              "          docLink.innerHTML = docLinkHtml;\n",
              "          element.appendChild(docLink);\n",
              "        }\n",
              "      </script>\n",
              "    </div>\n",
              "  </div>\n",
              "  "
            ],
            "text/plain": [
              "           Date     Price      Open      High       Low     Vol. Change %\n",
              "0  Jul 31, 2022  23,303.4  23,634.2  24,179.3  23,236.2  138.84K   -1.40%\n",
              "1  Jul 30, 2022  23,634.2  23,774.2  24,605.3  23,521.8  168.72K   -0.59%\n",
              "2  Jul 29, 2022  23,774.3  23,850.2  24,340.0  23,451.4  221.66K   -0.32%\n",
              "3  Jul 28, 2022  23,850.0  22,957.7  24,190.5  22,611.6  268.32K    3.88%\n",
              "4  Jul 27, 2022  22,958.3  21,248.0  23,027.8  21,047.5  242.66K    8.05%"
            ]
          },
          "execution_count": 264,
          "metadata": {},
          "output_type": "execute_result"
        }
      ],
      "source": [
        "# import dataset\n",
        "dataset = pd.read_csv(\"Bitcoin Historical Data - Investing.com (2).csv\")\n",
        "dataset.head(5)"
      ]
    },
    {
      "cell_type": "code",
      "execution_count": null,
      "metadata": {
        "colab": {
          "base_uri": "https://localhost:8080/"
        },
        "id": "LEA39iDgeyZI",
        "outputId": "16a61e06-8339-4b92-8fc1-60b9b92af791"
      },
      "outputs": [
        {
          "data": {
            "text/plain": [
              "Date        0.0\n",
              "Price       0.0\n",
              "Open        0.0\n",
              "High        0.0\n",
              "Low         0.0\n",
              "Vol.        0.0\n",
              "Change %    0.0\n",
              "dtype: float64"
            ]
          },
          "execution_count": 266,
          "metadata": {},
          "output_type": "execute_result"
        }
      ],
      "source": [
        "dataset.isnull().sum() / len(dataset)"
      ]
    },
    {
      "cell_type": "code",
      "execution_count": null,
      "metadata": {
        "colab": {
          "base_uri": "https://localhost:8080/"
        },
        "id": "lG3BNZOIpzrA",
        "outputId": "8c784a87-eb88-4f31-9bd2-566b2a0780df"
      },
      "outputs": [
        {
          "name": "stderr",
          "output_type": "stream",
          "text": [
            "/usr/local/lib/python3.7/dist-packages/ipykernel_launcher.py:1: FutureWarning: In a future version of pandas all arguments of DataFrame.drop except for the argument 'labels' will be keyword-only\n",
            "  \"\"\"Entry point for launching an IPython kernel.\n"
          ]
        }
      ],
      "source": [
        "dataset.drop(['Date','Open', 'High', 'Low', 'Vol.', 'Change %' ],1, inplace = True)"
      ]
    },
    {
      "cell_type": "code",
      "execution_count": null,
      "metadata": {
        "colab": {
          "base_uri": "https://localhost:8080/",
          "height": 206
        },
        "id": "j_UDAfjyprGK",
        "outputId": "3ba8f249-7fde-411f-ff11-ca2f2b4ab348"
      },
      "outputs": [
        {
          "data": {
            "text/html": [
              "\n",
              "  <div id=\"df-65d1fae1-6b2f-4e3c-87f4-404469e16c8c\">\n",
              "    <div class=\"colab-df-container\">\n",
              "      <div>\n",
              "<style scoped>\n",
              "    .dataframe tbody tr th:only-of-type {\n",
              "        vertical-align: middle;\n",
              "    }\n",
              "\n",
              "    .dataframe tbody tr th {\n",
              "        vertical-align: top;\n",
              "    }\n",
              "\n",
              "    .dataframe thead th {\n",
              "        text-align: right;\n",
              "    }\n",
              "</style>\n",
              "<table border=\"1\" class=\"dataframe\">\n",
              "  <thead>\n",
              "    <tr style=\"text-align: right;\">\n",
              "      <th></th>\n",
              "      <th>Price</th>\n",
              "    </tr>\n",
              "  </thead>\n",
              "  <tbody>\n",
              "    <tr>\n",
              "      <th>0</th>\n",
              "      <td>23,303.4</td>\n",
              "    </tr>\n",
              "    <tr>\n",
              "      <th>1</th>\n",
              "      <td>23,634.2</td>\n",
              "    </tr>\n",
              "    <tr>\n",
              "      <th>2</th>\n",
              "      <td>23,774.3</td>\n",
              "    </tr>\n",
              "    <tr>\n",
              "      <th>3</th>\n",
              "      <td>23,850.0</td>\n",
              "    </tr>\n",
              "    <tr>\n",
              "      <th>4</th>\n",
              "      <td>22,958.3</td>\n",
              "    </tr>\n",
              "  </tbody>\n",
              "</table>\n",
              "</div>\n",
              "      <button class=\"colab-df-convert\" onclick=\"convertToInteractive('df-65d1fae1-6b2f-4e3c-87f4-404469e16c8c')\"\n",
              "              title=\"Convert this dataframe to an interactive table.\"\n",
              "              style=\"display:none;\">\n",
              "        \n",
              "  <svg xmlns=\"http://www.w3.org/2000/svg\" height=\"24px\"viewBox=\"0 0 24 24\"\n",
              "       width=\"24px\">\n",
              "    <path d=\"M0 0h24v24H0V0z\" fill=\"none\"/>\n",
              "    <path d=\"M18.56 5.44l.94 2.06.94-2.06 2.06-.94-2.06-.94-.94-2.06-.94 2.06-2.06.94zm-11 1L8.5 8.5l.94-2.06 2.06-.94-2.06-.94L8.5 2.5l-.94 2.06-2.06.94zm10 10l.94 2.06.94-2.06 2.06-.94-2.06-.94-.94-2.06-.94 2.06-2.06.94z\"/><path d=\"M17.41 7.96l-1.37-1.37c-.4-.4-.92-.59-1.43-.59-.52 0-1.04.2-1.43.59L10.3 9.45l-7.72 7.72c-.78.78-.78 2.05 0 2.83L4 21.41c.39.39.9.59 1.41.59.51 0 1.02-.2 1.41-.59l7.78-7.78 2.81-2.81c.8-.78.8-2.07 0-2.86zM5.41 20L4 18.59l7.72-7.72 1.47 1.35L5.41 20z\"/>\n",
              "  </svg>\n",
              "      </button>\n",
              "      \n",
              "  <style>\n",
              "    .colab-df-container {\n",
              "      display:flex;\n",
              "      flex-wrap:wrap;\n",
              "      gap: 12px;\n",
              "    }\n",
              "\n",
              "    .colab-df-convert {\n",
              "      background-color: #E8F0FE;\n",
              "      border: none;\n",
              "      border-radius: 50%;\n",
              "      cursor: pointer;\n",
              "      display: none;\n",
              "      fill: #1967D2;\n",
              "      height: 32px;\n",
              "      padding: 0 0 0 0;\n",
              "      width: 32px;\n",
              "    }\n",
              "\n",
              "    .colab-df-convert:hover {\n",
              "      background-color: #E2EBFA;\n",
              "      box-shadow: 0px 1px 2px rgba(60, 64, 67, 0.3), 0px 1px 3px 1px rgba(60, 64, 67, 0.15);\n",
              "      fill: #174EA6;\n",
              "    }\n",
              "\n",
              "    [theme=dark] .colab-df-convert {\n",
              "      background-color: #3B4455;\n",
              "      fill: #D2E3FC;\n",
              "    }\n",
              "\n",
              "    [theme=dark] .colab-df-convert:hover {\n",
              "      background-color: #434B5C;\n",
              "      box-shadow: 0px 1px 3px 1px rgba(0, 0, 0, 0.15);\n",
              "      filter: drop-shadow(0px 1px 2px rgba(0, 0, 0, 0.3));\n",
              "      fill: #FFFFFF;\n",
              "    }\n",
              "  </style>\n",
              "\n",
              "      <script>\n",
              "        const buttonEl =\n",
              "          document.querySelector('#df-65d1fae1-6b2f-4e3c-87f4-404469e16c8c button.colab-df-convert');\n",
              "        buttonEl.style.display =\n",
              "          google.colab.kernel.accessAllowed ? 'block' : 'none';\n",
              "\n",
              "        async function convertToInteractive(key) {\n",
              "          const element = document.querySelector('#df-65d1fae1-6b2f-4e3c-87f4-404469e16c8c');\n",
              "          const dataTable =\n",
              "            await google.colab.kernel.invokeFunction('convertToInteractive',\n",
              "                                                     [key], {});\n",
              "          if (!dataTable) return;\n",
              "\n",
              "          const docLinkHtml = 'Like what you see? Visit the ' +\n",
              "            '<a target=\"_blank\" href=https://colab.research.google.com/notebooks/data_table.ipynb>data table notebook</a>'\n",
              "            + ' to learn more about interactive tables.';\n",
              "          element.innerHTML = '';\n",
              "          dataTable['output_type'] = 'display_data';\n",
              "          await google.colab.output.renderOutput(dataTable, element);\n",
              "          const docLink = document.createElement('div');\n",
              "          docLink.innerHTML = docLinkHtml;\n",
              "          element.appendChild(docLink);\n",
              "        }\n",
              "      </script>\n",
              "    </div>\n",
              "  </div>\n",
              "  "
            ],
            "text/plain": [
              "      Price\n",
              "0  23,303.4\n",
              "1  23,634.2\n",
              "2  23,774.3\n",
              "3  23,850.0\n",
              "4  22,958.3"
            ]
          },
          "execution_count": 268,
          "metadata": {},
          "output_type": "execute_result"
        }
      ],
      "source": [
        "dataset.head(5)"
      ]
    },
    {
      "cell_type": "code",
      "execution_count": null,
      "metadata": {
        "id": "2vSH3NBmpaiv"
      },
      "outputs": [],
      "source": [
        "prediction_days = 30 \n",
        "dataset[\"Prediction\"] = dataset[[\"Price\"]].shift(-prediction_days)"
      ]
    },
    {
      "cell_type": "code",
      "execution_count": null,
      "metadata": {
        "colab": {
          "base_uri": "https://localhost:8080/",
          "height": 206
        },
        "id": "herC4nJRqkDI",
        "outputId": "0c290e1d-b9c3-4c1b-d1ec-bed707a2fee6"
      },
      "outputs": [
        {
          "data": {
            "text/html": [
              "\n",
              "  <div id=\"df-97f7562e-09d0-4c52-99c8-ab06c448d352\">\n",
              "    <div class=\"colab-df-container\">\n",
              "      <div>\n",
              "<style scoped>\n",
              "    .dataframe tbody tr th:only-of-type {\n",
              "        vertical-align: middle;\n",
              "    }\n",
              "\n",
              "    .dataframe tbody tr th {\n",
              "        vertical-align: top;\n",
              "    }\n",
              "\n",
              "    .dataframe thead th {\n",
              "        text-align: right;\n",
              "    }\n",
              "</style>\n",
              "<table border=\"1\" class=\"dataframe\">\n",
              "  <thead>\n",
              "    <tr style=\"text-align: right;\">\n",
              "      <th></th>\n",
              "      <th>Price</th>\n",
              "      <th>Prediction</th>\n",
              "    </tr>\n",
              "  </thead>\n",
              "  <tbody>\n",
              "    <tr>\n",
              "      <th>0</th>\n",
              "      <td>23,303.4</td>\n",
              "      <td>19,262.9</td>\n",
              "    </tr>\n",
              "    <tr>\n",
              "      <th>1</th>\n",
              "      <td>23,634.2</td>\n",
              "      <td>19,926.6</td>\n",
              "    </tr>\n",
              "    <tr>\n",
              "      <th>2</th>\n",
              "      <td>23,774.3</td>\n",
              "      <td>20,111.3</td>\n",
              "    </tr>\n",
              "    <tr>\n",
              "      <th>3</th>\n",
              "      <td>23,850.0</td>\n",
              "      <td>20,278.0</td>\n",
              "    </tr>\n",
              "    <tr>\n",
              "      <th>4</th>\n",
              "      <td>22,958.3</td>\n",
              "      <td>20,730.2</td>\n",
              "    </tr>\n",
              "  </tbody>\n",
              "</table>\n",
              "</div>\n",
              "      <button class=\"colab-df-convert\" onclick=\"convertToInteractive('df-97f7562e-09d0-4c52-99c8-ab06c448d352')\"\n",
              "              title=\"Convert this dataframe to an interactive table.\"\n",
              "              style=\"display:none;\">\n",
              "        \n",
              "  <svg xmlns=\"http://www.w3.org/2000/svg\" height=\"24px\"viewBox=\"0 0 24 24\"\n",
              "       width=\"24px\">\n",
              "    <path d=\"M0 0h24v24H0V0z\" fill=\"none\"/>\n",
              "    <path d=\"M18.56 5.44l.94 2.06.94-2.06 2.06-.94-2.06-.94-.94-2.06-.94 2.06-2.06.94zm-11 1L8.5 8.5l.94-2.06 2.06-.94-2.06-.94L8.5 2.5l-.94 2.06-2.06.94zm10 10l.94 2.06.94-2.06 2.06-.94-2.06-.94-.94-2.06-.94 2.06-2.06.94z\"/><path d=\"M17.41 7.96l-1.37-1.37c-.4-.4-.92-.59-1.43-.59-.52 0-1.04.2-1.43.59L10.3 9.45l-7.72 7.72c-.78.78-.78 2.05 0 2.83L4 21.41c.39.39.9.59 1.41.59.51 0 1.02-.2 1.41-.59l7.78-7.78 2.81-2.81c.8-.78.8-2.07 0-2.86zM5.41 20L4 18.59l7.72-7.72 1.47 1.35L5.41 20z\"/>\n",
              "  </svg>\n",
              "      </button>\n",
              "      \n",
              "  <style>\n",
              "    .colab-df-container {\n",
              "      display:flex;\n",
              "      flex-wrap:wrap;\n",
              "      gap: 12px;\n",
              "    }\n",
              "\n",
              "    .colab-df-convert {\n",
              "      background-color: #E8F0FE;\n",
              "      border: none;\n",
              "      border-radius: 50%;\n",
              "      cursor: pointer;\n",
              "      display: none;\n",
              "      fill: #1967D2;\n",
              "      height: 32px;\n",
              "      padding: 0 0 0 0;\n",
              "      width: 32px;\n",
              "    }\n",
              "\n",
              "    .colab-df-convert:hover {\n",
              "      background-color: #E2EBFA;\n",
              "      box-shadow: 0px 1px 2px rgba(60, 64, 67, 0.3), 0px 1px 3px 1px rgba(60, 64, 67, 0.15);\n",
              "      fill: #174EA6;\n",
              "    }\n",
              "\n",
              "    [theme=dark] .colab-df-convert {\n",
              "      background-color: #3B4455;\n",
              "      fill: #D2E3FC;\n",
              "    }\n",
              "\n",
              "    [theme=dark] .colab-df-convert:hover {\n",
              "      background-color: #434B5C;\n",
              "      box-shadow: 0px 1px 3px 1px rgba(0, 0, 0, 0.15);\n",
              "      filter: drop-shadow(0px 1px 2px rgba(0, 0, 0, 0.3));\n",
              "      fill: #FFFFFF;\n",
              "    }\n",
              "  </style>\n",
              "\n",
              "      <script>\n",
              "        const buttonEl =\n",
              "          document.querySelector('#df-97f7562e-09d0-4c52-99c8-ab06c448d352 button.colab-df-convert');\n",
              "        buttonEl.style.display =\n",
              "          google.colab.kernel.accessAllowed ? 'block' : 'none';\n",
              "\n",
              "        async function convertToInteractive(key) {\n",
              "          const element = document.querySelector('#df-97f7562e-09d0-4c52-99c8-ab06c448d352');\n",
              "          const dataTable =\n",
              "            await google.colab.kernel.invokeFunction('convertToInteractive',\n",
              "                                                     [key], {});\n",
              "          if (!dataTable) return;\n",
              "\n",
              "          const docLinkHtml = 'Like what you see? Visit the ' +\n",
              "            '<a target=\"_blank\" href=https://colab.research.google.com/notebooks/data_table.ipynb>data table notebook</a>'\n",
              "            + ' to learn more about interactive tables.';\n",
              "          element.innerHTML = '';\n",
              "          dataTable['output_type'] = 'display_data';\n",
              "          await google.colab.output.renderOutput(dataTable, element);\n",
              "          const docLink = document.createElement('div');\n",
              "          docLink.innerHTML = docLinkHtml;\n",
              "          element.appendChild(docLink);\n",
              "        }\n",
              "      </script>\n",
              "    </div>\n",
              "  </div>\n",
              "  "
            ],
            "text/plain": [
              "      Price Prediction\n",
              "0  23,303.4   19,262.9\n",
              "1  23,634.2   19,926.6\n",
              "2  23,774.3   20,111.3\n",
              "3  23,850.0   20,278.0\n",
              "4  22,958.3   20,730.2"
            ]
          },
          "execution_count": 270,
          "metadata": {},
          "output_type": "execute_result"
        }
      ],
      "source": [
        "dataset.head(5)"
      ]
    },
    {
      "cell_type": "code",
      "execution_count": null,
      "metadata": {
        "colab": {
          "base_uri": "https://localhost:8080/"
        },
        "id": "FgzTzqveq0k_",
        "outputId": "a64c5623-2a50-4d34-e8b9-4e5c6690bcf3"
      },
      "outputs": [
        {
          "name": "stdout",
          "output_type": "stream",
          "text": [
            "[['23,303.4']\n",
            " ['23,634.2']\n",
            " ['23,774.3']\n",
            " ...\n",
            " ['3,502.5']\n",
            " ['3,467.9']\n",
            " ['3,437.2']]\n",
            "[[23303.4]\n",
            " [23634.2]\n",
            " [23774.3]\n",
            " ...\n",
            " [3502.5]\n",
            " [3467.9]\n",
            " [3437.2]]\n"
          ]
        },
        {
          "name": "stderr",
          "output_type": "stream",
          "text": [
            "/usr/local/lib/python3.7/dist-packages/ipykernel_launcher.py:4: FutureWarning: In a future version of pandas all arguments of DataFrame.drop except for the argument 'labels' will be keyword-only\n",
            "  after removing the cwd from sys.path.\n"
          ]
        }
      ],
      "source": [
        "# create the independent dataset\n",
        "\n",
        "# convert the dataset into numpy array \n",
        "x = np.array(dataset.drop([\"Prediction\"],1))\n",
        "\n",
        "# Remove the last 30 \n",
        "x = x[:len(dataset)-prediction_days]\n",
        "\n",
        "print(x)\n",
        "# remove comma in every element\n",
        "for i in x :\n",
        "  for j in i : \n",
        "    j = j.replace(\",\",\"\")\n",
        "     \n",
        "    j = float(j) # convert to float\n",
        "    i[0] = j # assigned the value\n",
        "print(x)\n"
      ]
    },
    {
      "cell_type": "code",
      "execution_count": null,
      "metadata": {
        "colab": {
          "base_uri": "https://localhost:8080/"
        },
        "id": "uJn5O17Irmd4",
        "outputId": "f8dc11ab-bff4-4968-9cbd-d08ab6033414"
      },
      "outputs": [
        {
          "name": "stdout",
          "output_type": "stream",
          "text": [
            "['19,262.9' '19,926.6' '20,111.3' ... '3,780.1' '3,873.8' '3,809.4']\n"
          ]
        }
      ],
      "source": [
        "# create dependent dataset \n",
        "y = np.array(dataset[\"Prediction\"])\n",
        "\n",
        "# get all of the value except the last 30 row \n",
        "y = y[:-prediction_days]\n",
        "print(y)"
      ]
    },
    {
      "cell_type": "code",
      "execution_count": null,
      "metadata": {
        "colab": {
          "base_uri": "https://localhost:8080/"
        },
        "id": "9yylEByGtc-S",
        "outputId": "245ab5e8-dfd8-4daa-b2df-bdb7141989c7"
      },
      "outputs": [
        {
          "name": "stdout",
          "output_type": "stream",
          "text": [
            "[['19,262.9']\n",
            " ['19,926.6']\n",
            " ['20,111.3']\n",
            " ...\n",
            " ['3,780.1']\n",
            " ['3,873.8']\n",
            " ['3,809.4']]\n"
          ]
        }
      ],
      "source": [
        "y = y.reshape(-1,1)\n",
        "print(y)"
      ]
    },
    {
      "cell_type": "code",
      "execution_count": null,
      "metadata": {
        "colab": {
          "base_uri": "https://localhost:8080/"
        },
        "id": "_tEa_a1kKMIq",
        "outputId": "f988c1a9-30f9-41d9-a4fc-4c4c4c041a09"
      },
      "outputs": [
        {
          "name": "stdout",
          "output_type": "stream",
          "text": [
            "[[19262.9]\n",
            " [19926.6]\n",
            " [20111.3]\n",
            " ...\n",
            " [3780.1]\n",
            " [3873.8]\n",
            " [3809.4]]\n"
          ]
        }
      ],
      "source": [
        "# remove comma in every element\n",
        "for m in y :\n",
        "  for n in m : \n",
        "    n = n.replace(\",\",\"\")\n",
        "     \n",
        "    n = float(n) # convert to float\n",
        "    m[0] = n # assigned the value\n",
        "print(y)"
      ]
    },
    {
      "cell_type": "code",
      "execution_count": null,
      "metadata": {
        "colab": {
          "base_uri": "https://localhost:8080/"
        },
        "id": "g3PVUQzigYTt",
        "outputId": "dbd2d033-eccd-495e-9bfe-f0ba697bb829"
      },
      "outputs": [
        {
          "name": "stdout",
          "output_type": "stream",
          "text": [
            "(1022, 1)\n",
            "(256, 1)\n"
          ]
        }
      ],
      "source": [
        "# split the dataset\n",
        "x_train, x_test, y_train, y_test = train_test_split(x,y, test_size =0.2, random_state = 1)\n",
        "\n",
        "print(x_train.shape)\n",
        "print(x_test.shape)"
      ]
    },
    {
      "cell_type": "code",
      "execution_count": null,
      "metadata": {
        "colab": {
          "base_uri": "https://localhost:8080/"
        },
        "id": "UPRDFw7OsPu6",
        "outputId": "3a413b01-95a3-465c-a596-0183b187ee27"
      },
      "outputs": [
        {
          "name": "stderr",
          "output_type": "stream",
          "text": [
            "/usr/local/lib/python3.7/dist-packages/ipykernel_launcher.py:2: FutureWarning: In a future version of pandas all arguments of DataFrame.drop except for the argument 'labels' will be keyword-only\n",
            "  \n"
          ]
        },
        {
          "name": "stdout",
          "output_type": "stream",
          "text": [
            "[['3,460.0']\n",
            " ['3,414.8']\n",
            " ['3,442.8']\n",
            " ['3,555.6']\n",
            " ['3,570.9']\n",
            " ['3,572.0']\n",
            " ['3,574.3']\n",
            " ['3,561.5']\n",
            " ['3,580.1']\n",
            " ['3,536.7']\n",
            " ['3,542.3']\n",
            " ['3,677.8']\n",
            " ['3,605.6']\n",
            " ['3,626.4']\n",
            " ['3,588.0']\n",
            " ['3,571.3']\n",
            " ['3,638.1']\n",
            " ['3,490.2']\n",
            " ['3,597.2']\n",
            " ['3,616.5']\n",
            " ['3,603.7']\n",
            " ['3,978.0']\n",
            " ['3,971.0']\n",
            " ['3,985.9']\n",
            " ['4,004.1']\n",
            " ['3,785.4']\n",
            " ['3,802.7']\n",
            " ['3,780.1']\n",
            " ['3,873.8']\n",
            " ['3,809.4']]\n"
          ]
        }
      ],
      "source": [
        "# set the prediction_days_array equal to the last 30 rows from the origianl dataset \n",
        "prediction_days_array = np.array(dataset.drop([\"Prediction\"],1))[-prediction_days:]\n",
        "print(prediction_days_array)"
      ]
    },
    {
      "cell_type": "markdown",
      "metadata": {
        "id": "efI2zqnDsyRW"
      },
      "source": [
        "# Linear Regression Model"
      ]
    },
    {
      "cell_type": "code",
      "execution_count": null,
      "metadata": {
        "id": "tmyOQKKzg7nf"
      },
      "outputs": [],
      "source": [
        "# Build the model \n",
        "linear_regression = LinearRegression()"
      ]
    },
    {
      "cell_type": "code",
      "execution_count": null,
      "metadata": {
        "id": "eMmoDsQ2ikAl"
      },
      "outputs": [],
      "source": [
        "model = linear_regression.fit(x_train, y_train)"
      ]
    },
    {
      "cell_type": "code",
      "execution_count": null,
      "metadata": {
        "colab": {
          "base_uri": "https://localhost:8080/"
        },
        "id": "l8Z6dBhEir2X",
        "outputId": "04e676b1-8ed6-47d9-a1e7-283ef515fbc6"
      },
      "outputs": [
        {
          "name": "stdout",
          "output_type": "stream",
          "text": [
            "[867.26503576]\n",
            "[[0.94533764]]\n"
          ]
        }
      ],
      "source": [
        "# find intercept and slope ( coefficient )\n",
        "Q_0 = model.intercept_\n",
        "print(Q_0)\n",
        "\n",
        "Q_1 = model.coef_\n",
        "print(Q_1)"
      ]
    },
    {
      "cell_type": "code",
      "execution_count": null,
      "metadata": {
        "colab": {
          "base_uri": "https://localhost:8080/"
        },
        "id": "QS9TTuaKi7qr",
        "outputId": "77409655-d4d9-43b8-ae0b-b677c470338a"
      },
      "outputs": [
        {
          "name": "stdout",
          "output_type": "stream",
          "text": [
            "[[39887.02148492]\n",
            " [11663.39902529]\n",
            " [32577.29271354]\n",
            " [56580.83341222]\n",
            " [ 7862.00730533]\n",
            " [29036.90871611]\n",
            " [ 6733.36869634]\n",
            " [ 9285.30765686]\n",
            " [ 5603.59568218]\n",
            " [52710.90471332]\n",
            " [48696.81202424]\n",
            " [44717.3186928 ]\n",
            " [25875.60511253]\n",
            " [ 4745.32363837]\n",
            " [48210.7194095 ]\n",
            " [51671.12784254]\n",
            " [ 8577.15523036]\n",
            " [31139.43416234]\n",
            " [29640.97946839]\n",
            " [10064.83307521]\n",
            " [ 9279.06842843]\n",
            " [11929.60610486]\n",
            " [ 4654.66575865]\n",
            " [ 5940.23041596]\n",
            " [ 6904.19120797]\n",
            " [10676.93919743]\n",
            " [ 9170.26006601]\n",
            " [15356.64411919]\n",
            " [ 8132.6574718 ]\n",
            " [28346.52863726]\n",
            " [62794.63225698]\n",
            " [ 7738.26260818]\n",
            " [ 5460.94423223]\n",
            " [ 8318.32178439]\n",
            " [54709.25395157]\n",
            " [10160.87937949]\n",
            " [ 7884.22273988]\n",
            " [10040.91603291]\n",
            " [40162.68194089]\n",
            " [46432.63384149]\n",
            " [40769.3051048 ]\n",
            " [48775.2750484 ]\n",
            " [ 9643.02342002]\n",
            " [11638.63117911]\n",
            " [11019.62409211]\n",
            " [ 5501.68828453]\n",
            " [45973.76695079]\n",
            " [ 9558.60476873]\n",
            " [40351.93853652]\n",
            " [40924.05687655]\n",
            " [18505.46926592]\n",
            " [60988.75376233]\n",
            " [ 8452.74879687]\n",
            " [41264.56749465]\n",
            " [35704.18602701]\n",
            " [27905.05595915]\n",
            " [11519.32956888]\n",
            " [58508.56592873]\n",
            " [33561.3891973 ]\n",
            " [10903.53662986]\n",
            " [38680.86518941]\n",
            " [ 4643.60530825]\n",
            " [ 7745.54170802]\n",
            " [10628.82151153]\n",
            " [ 6298.32431418]\n",
            " [10407.80157118]\n",
            " [38385.82531181]\n",
            " [34662.51848095]\n",
            " [39210.15973432]\n",
            " [50099.69308274]\n",
            " [36839.25293196]\n",
            " [28234.22252557]\n",
            " [10135.63886449]\n",
            " [38620.26904665]\n",
            " [28622.28362699]\n",
            " [10971.79000751]\n",
            " [ 9343.44592175]\n",
            " [30734.26244963]\n",
            " [ 8602.86841418]\n",
            " [58406.65853108]\n",
            " [ 9502.35717912]\n",
            " [49384.16702265]\n",
            " [37261.4407222 ]\n",
            " [12038.13086599]\n",
            " [10221.8536573 ]\n",
            " [10499.59385608]\n",
            " [ 6060.76096512]\n",
            " [44737.54891831]\n",
            " [ 9924.26136807]\n",
            " [ 4521.84582016]\n",
            " [10505.64401698]\n",
            " [41220.70382813]\n",
            " [ 7766.52820364]\n",
            " [46978.37726135]\n",
            " [22997.80826733]\n",
            " [31242.28689763]\n",
            " [ 9944.77519487]\n",
            " [13132.64278615]\n",
            " [11891.13086289]\n",
            " [ 9655.69094441]\n",
            " [34025.17184373]\n",
            " [45289.90970165]\n",
            " [11960.89678076]\n",
            " [ 8812.9224379 ]\n",
            " [26019.20190012]\n",
            " [25693.06041415]\n",
            " [ 7742.23302627]\n",
            " [13687.3669136 ]\n",
            " [38205.26582248]\n",
            " [10490.14047967]\n",
            " [30023.46307774]\n",
            " [ 9190.49029152]\n",
            " [ 6397.01756385]\n",
            " [37480.38091974]\n",
            " [10110.68195078]\n",
            " [11978.19645958]\n",
            " [10509.80350259]\n",
            " [59676.90871862]\n",
            " [ 7393.40343693]\n",
            " [10975.94949312]\n",
            " [ 9928.70445498]\n",
            " [ 9293.15395927]\n",
            " [60405.00776933]\n",
            " [10856.55334913]\n",
            " [ 4286.36221391]\n",
            " [ 4664.68633764]\n",
            " [10899.47167801]\n",
            " [31587.33513641]\n",
            " [55770.01731797]\n",
            " [36106.23812552]\n",
            " [46381.49107514]\n",
            " [40261.37519056]\n",
            " [38824.36744324]\n",
            " [31806.36986771]\n",
            " [60346.49136938]\n",
            " [ 4380.04517408]\n",
            " [29609.31065744]\n",
            " [45291.23317435]\n",
            " [11766.25176058]\n",
            " [43968.80034906]\n",
            " [13910.37206299]\n",
            " [ 9158.7269468 ]\n",
            " [35656.06834111]\n",
            " [ 8368.61374687]\n",
            " [ 8763.95394812]\n",
            " [37024.72817702]\n",
            " [40765.42922047]\n",
            " [ 9864.04336037]\n",
            " [52065.1445711 ]\n",
            " [28944.6437624 ]\n",
            " [41091.66524021]\n",
            " [13094.35661171]\n",
            " [46644.48400672]\n",
            " [ 8486.30828311]\n",
            " [49215.23518629]\n",
            " [ 8202.23432214]\n",
            " [ 4762.43424966]\n",
            " [17091.14962197]\n",
            " [ 9776.88322992]\n",
            " [19978.02170852]\n",
            " [ 7641.08189874]\n",
            " [10639.50382687]\n",
            " [ 6146.31402159]\n",
            " [45164.84153182]\n",
            " [10936.43437975]\n",
            " [28360.80323563]\n",
            " [ 9126.58546702]\n",
            " [45199.0627544 ]\n",
            " [ 8499.25940878]\n",
            " [42295.08005656]\n",
            " [11091.75335408]\n",
            " [ 9431.07872102]\n",
            " [ 9383.15010265]\n",
            " [37275.99892187]\n",
            " [ 8945.83691016]\n",
            " [ 4745.22910461]\n",
            " [ 8838.73015549]\n",
            " [ 7953.3269214 ]\n",
            " [62131.47790217]\n",
            " [12723.21705405]\n",
            " [28259.36850681]\n",
            " [32700.84834315]\n",
            " [37894.62787381]\n",
            " [29303.39939697]\n",
            " [56418.80254064]\n",
            " [ 9672.13981935]\n",
            " [20760.47767356]\n",
            " [33222.01298436]\n",
            " [18611.91428424]\n",
            " [ 8626.97452402]\n",
            " [45523.78623391]\n",
            " [10233.38677651]\n",
            " [21004.75291987]\n",
            " [ 4513.62138268]\n",
            " [31300.80329758]\n",
            " [ 8915.77517319]\n",
            " [11872.50771137]\n",
            " [21813.39473755]\n",
            " [11610.93278625]\n",
            " [10672.11797547]\n",
            " [ 8308.77387422]\n",
            " [ 4085.4779653 ]\n",
            " [32609.81232837]\n",
            " [38442.54557024]\n",
            " [ 7518.47160677]\n",
            " [44349.29874936]\n",
            " [40412.81828057]\n",
            " [44679.50518719]\n",
            " [ 9731.97969199]\n",
            " [10022.38741515]\n",
            " [10483.90125124]\n",
            " [38109.59765326]\n",
            " [18566.82167879]\n",
            " [22099.92657638]\n",
            " [ 9571.17775934]\n",
            " [12478.46913893]\n",
            " [44174.12768458]\n",
            " [ 7600.81051526]\n",
            " [47373.33932755]\n",
            " [18399.49691642]\n",
            " [48218.18757686]\n",
            " [43359.71930729]\n",
            " [19141.49243045]\n",
            " [40916.11604037]\n",
            " [35413.68377009]\n",
            " [15334.33415087]\n",
            " [33710.94161202]\n",
            " [34917.85417765]\n",
            " [10367.34112017]\n",
            " [10713.0510953 ]\n",
            " [30856.49460654]\n",
            " [11066.9855079 ]\n",
            " [ 7470.2593871 ]\n",
            " [ 9675.1648998 ]\n",
            " [11635.03889608]\n",
            " [ 7732.02337976]\n",
            " [58990.30999032]\n",
            " [10756.53662676]\n",
            " [ 9840.50445312]\n",
            " [12129.54501582]\n",
            " [39136.42339837]\n",
            " [15593.64026566]\n",
            " [ 7967.31791848]\n",
            " [ 4672.81624134]\n",
            " [55161.59801255]\n",
            " [36496.18990222]\n",
            " [ 9451.49801406]\n",
            " [33000.70944272]\n",
            " [11032.10254897]\n",
            " [11440.58294343]\n",
            " [35548.20531633]\n",
            " [35154.18858777]\n",
            " [41586.07682619]\n",
            " [53166.36838851]\n",
            " [ 9965.76169049]\n",
            " [45649.5161401 ]]\n"
          ]
        }
      ],
      "source": [
        "Linear_prediction = model.predict(x_test)\n",
        "print(Linear_prediction)"
      ]
    },
    {
      "cell_type": "code",
      "execution_count": null,
      "metadata": {
        "id": "3hR_dsnbMsVk"
      },
      "outputs": [],
      "source": [
        "Actual_value = y_test.reshape(-1)\n",
        "Linear_prediction = Linear_prediction.reshape(-1)"
      ]
    },
    {
      "cell_type": "code",
      "execution_count": null,
      "metadata": {
        "colab": {
          "base_uri": "https://localhost:8080/"
        },
        "id": "254y7PEyj4Wg",
        "outputId": "696040a9-8239-45fe-9c65-9ccbf3458f70"
      },
      "outputs": [
        {
          "name": "stdout",
          "output_type": "stream",
          "text": [
            "     Linear_Prediction Actual Value\n",
            "0         39887.021485      40000.1\n",
            "1         11663.399025      10675.3\n",
            "2         32577.292714      36687.6\n",
            "3         56580.833412      60310.8\n",
            "4          7862.007305       9310.8\n",
            "..                 ...          ...\n",
            "251       35154.188588      50786.1\n",
            "252       41586.076826      48871.5\n",
            "253       53166.368389      52672.1\n",
            "254        9965.761690       8728.2\n",
            "255       45649.516140      37382.2\n",
            "\n",
            "[256 rows x 2 columns]\n"
          ]
        }
      ],
      "source": [
        "my_datasets = pd.DataFrame({\"Linear_Prediction\" : Linear_prediction, \"Actual Value\" : Actual_value })\n",
        "print(my_datasets)"
      ]
    },
    {
      "cell_type": "code",
      "execution_count": null,
      "metadata": {
        "colab": {
          "base_uri": "https://localhost:8080/",
          "height": 295
        },
        "id": "FFilCDV4ov3B",
        "outputId": "f3aaadf6-ed26-484a-87dd-e890fbf854c4"
      },
      "outputs": [
        {
          "data": {
            "image/png": "[encoded data removed]",
            "text/plain": [
              "<Figure size 432x288 with 1 Axes>"
            ]
          },
          "metadata": {
            "needs_background": "light"
          },
          "output_type": "display_data"
        }
      ],
      "source": [
        "# Plot between predicted value and True value\n",
        "plt.plot(y_test, label = \"Actual value\", color =\"b\")\n",
        "plt.plot(Linear_prediction, label = \"Predicted value\", color =\"r\")\n",
        "plt.title(\"Prediction by Linear regression\")\n",
        "plt.xlabel(\"Time scale\")\n",
        "plt.ylabel(\"Scale USD\")\n",
        "plt.legend()\n",
        "plt.show()"
      ]
    },
    {
      "cell_type": "code",
      "execution_count": null,
      "metadata": {
        "colab": {
          "base_uri": "https://localhost:8080/"
        },
        "id": "prxMz_S1kWwn",
        "outputId": "1b184c17-773b-48d3-94ba-eedd1801daad"
      },
      "outputs": [
        {
          "name": "stdout",
          "output_type": "stream",
          "text": [
            "The accuracy between actual and predicted is: 0.8750018192318672\n"
          ]
        }
      ],
      "source": [
        "from sklearn.metrics import accuracy_score\n",
        "result = model.score(x_test, y_test)\n",
        "print(\"The accuracy between actual and predicted is:\",result)\n",
        "                "
      ]
    },
    {
      "cell_type": "markdown",
      "metadata": {
        "id": "7XVxJUjcNsaa"
      },
      "source": [
        "# Decision Tree "
      ]
    },
    {
      "cell_type": "code",
      "execution_count": null,
      "metadata": {
        "id": "sn4zDVQnNwmv"
      },
      "outputs": [],
      "source": [
        "from sklearn.tree import DecisionTreeRegressor \n",
        "model = DecisionTreeRegressor().fit(x_train, y_train)"
      ]
    },
    {
      "cell_type": "code",
      "execution_count": null,
      "metadata": {
        "id": "DNjuDc1APZCk"
      },
      "outputs": [],
      "source": [
        "DecisionTree_Prediction = model.predict(x_test)"
      ]
    },
    {
      "cell_type": "code",
      "execution_count": null,
      "metadata": {
        "colab": {
          "base_uri": "https://localhost:8080/"
        },
        "id": "b1RRhiS0QilH",
        "outputId": "36986173-bb14-44f3-cbdd-2b2c5f71ecfc"
      },
      "outputs": [
        {
          "name": "stdout",
          "output_type": "stream",
          "text": [
            "     Decision_Prediction Actual Value\n",
            "0                41022.0      40000.1\n",
            "1                10326.0      10675.3\n",
            "2                32193.3      36687.6\n",
            "3                47936.3      60310.8\n",
            "4                 7742.7       9310.8\n",
            "..                   ...          ...\n",
            "251              48599.7      50786.1\n",
            "252              46172.2      48871.5\n",
            "253              55765.2      52672.1\n",
            "254               9151.4       8728.2\n",
            "255              53631.5      37382.2\n",
            "\n",
            "[256 rows x 2 columns]\n"
          ]
        }
      ],
      "source": [
        "my_datasets = pd.DataFrame({\"Decision_Prediction\" : DecisionTree_Prediction, \"Actual Value\" : Actual_value })\n",
        "print(my_datasets)"
      ]
    },
    {
      "cell_type": "code",
      "execution_count": null,
      "metadata": {
        "colab": {
          "base_uri": "https://localhost:8080/"
        },
        "id": "IohgbJ82PkJg",
        "outputId": "ec84733e-2215-47ad-ba2a-6b36f068df37"
      },
      "outputs": [
        {
          "name": "stdout",
          "output_type": "stream",
          "text": [
            "0.8114862873366335\n"
          ]
        }
      ],
      "source": [
        "from sklearn.metrics import r2_score\n",
        "score = r2_score(y_test, DecisionTree_Prediction)\n",
        "print(score)"
      ]
    },
    {
      "cell_type": "code",
      "execution_count": null,
      "metadata": {
        "colab": {
          "base_uri": "https://localhost:8080/",
          "height": 295
        },
        "id": "zODm-i95WCf0",
        "outputId": "d30783bd-7aa5-47e6-f16d-6e095a106ed6"
      },
      "outputs": [
        {
          "data": {
            "image/png": "[encoded data removed]",
            "text/plain": [
              "<Figure size 432x288 with 1 Axes>"
            ]
          },
          "metadata": {
            "needs_background": "light"
          },
          "output_type": "display_data"
        }
      ],
      "source": [
        "# Plot between predicted value and True value\n",
        "plt.plot(y_test, label = \"Actual value\", color =\"b\")\n",
        "plt.plot(DecisionTree_Prediction, label = \"Predicted value\", color =\"r\")\n",
        "plt.title(\"Prediction by Linear regression\")\n",
        "plt.xlabel(\"Time scale\")\n",
        "plt.ylabel(\"Scale USD\")\n",
        "plt.legend()\n",
        "plt.show()"
      ]
    },
    {
      "cell_type": "markdown",
      "metadata": {
        "id": "dYZ54QhWQ3Fe"
      },
      "source": [
        "# SVR "
      ]
    },
    {
      "cell_type": "code",
      "execution_count": null,
      "metadata": {
        "id": "6sRfmqJKQ2h4"
      },
      "outputs": [],
      "source": [
        "from sklearn.svm import SVR"
      ]
    },
    {
      "cell_type": "markdown",
      "metadata": {
        "id": "fVimtVyvXbTE"
      },
      "source": [
        "Radial Basis Function Kernel"
      ]
    },
    {
      "cell_type": "code",
      "execution_count": null,
      "metadata": {
        "colab": {
          "base_uri": "https://localhost:8080/"
        },
        "id": "ak0mjXEbRazp",
        "outputId": "8ef536f0-698e-4b4c-f4ff-6230802f1a73"
      },
      "outputs": [
        {
          "name": "stderr",
          "output_type": "stream",
          "text": [
            "/usr/local/lib/python3.7/dist-packages/sklearn/utils/validation.py:993: DataConversionWarning: A column-vector y was passed when a 1d array was expected. Please change the shape of y to (n_samples, ), for example using ravel().\n",
            "  y = column_or_1d(y, warn=True)\n"
          ]
        }
      ],
      "source": [
        "rbf_SVR = SVR(kernel = 'rbf', C = 1e3, gamma = 0.0000001).fit(x_train, y_train)\n",
        "rbf_SVR_predicted = rbf_SVR.predict(x_test)"
      ]
    },
    {
      "cell_type": "code",
      "execution_count": null,
      "metadata": {
        "colab": {
          "base_uri": "https://localhost:8080/"
        },
        "id": "zXU7KrVeRg4E",
        "outputId": "17bbe573-e882-4ff6-ef74-676d3b46aa53"
      },
      "outputs": [
        {
          "name": "stdout",
          "output_type": "stream",
          "text": [
            "The accuracy in RBF: 0.8658501465553866\n"
          ]
        }
      ],
      "source": [
        "from sklearn.metrics import accuracy_score\n",
        "result3 = rbf_SVR.score(x_test, y_test)\n",
        "print(\"The accuracy in RBF:\", result3)"
      ]
    },
    {
      "cell_type": "code",
      "execution_count": null,
      "metadata": {
        "colab": {
          "base_uri": "https://localhost:8080/",
          "height": 295
        },
        "id": "31iDu4Z8Rgqn",
        "outputId": "f44f7066-1a47-47a9-e034-bb6d35000d97"
      },
      "outputs": [
        {
          "data": {
            "image/png": "[encoded data removed]",
            "text/plain": [
              "<Figure size 432x288 with 1 Axes>"
            ]
          },
          "metadata": {
            "needs_background": "light"
          },
          "output_type": "display_data"
        }
      ],
      "source": [
        "# Plot between predicted value and True value\n",
        "plt.plot(y_test, label = \"Actual value\", color =\"b\")\n",
        "plt.plot(rbf_SVR_predicted, label = \"Predicted value\", color =\"r\")\n",
        "plt.title(\"Prediction by Linear regression\")\n",
        "plt.xlabel(\"Time scale\")\n",
        "plt.ylabel(\"Scale USD\")\n",
        "plt.legend()\n",
        "plt.show()"
      ]
    },
    {
      "cell_type": "markdown",
      "metadata": {
        "id": "RIXBli2pXLF5"
      },
      "source": [
        "Polynomial Kernel"
      ]
    },
    {
      "cell_type": "code",
      "execution_count": null,
      "metadata": {
        "colab": {
          "base_uri": "https://localhost:8080/"
        },
        "id": "5jLYXDTQWTpL",
        "outputId": "0babfe8c-ea12-492d-9e86-4a08989f2b83"
      },
      "outputs": [
        {
          "name": "stderr",
          "output_type": "stream",
          "text": [
            "/usr/local/lib/python3.7/dist-packages/sklearn/utils/validation.py:993: DataConversionWarning: A column-vector y was passed when a 1d array was expected. Please change the shape of y to (n_samples, ), for example using ravel().\n",
            "  y = column_or_1d(y, warn=True)\n"
          ]
        }
      ],
      "source": [
        "poly_SVR = SVR(kernel = 'poly', C = 1000.0, degree = 2).fit(x_train, y_train)\n",
        "poly_SVR_predicted = poly_SVR.predict(x_test)"
      ]
    },
    {
      "cell_type": "code",
      "execution_count": null,
      "metadata": {
        "colab": {
          "base_uri": "https://localhost:8080/"
        },
        "id": "nH-m8rA-WXE6",
        "outputId": "c4362f4f-15be-49b6-a919-6966f92b26df"
      },
      "outputs": [
        {
          "name": "stdout",
          "output_type": "stream",
          "text": [
            "The accuracy in Poly: 0.7735387823476696\n"
          ]
        }
      ],
      "source": [
        "from sklearn.metrics import accuracy_score\n",
        "result2 = poly_SVR.score(x_test, y_test)\n",
        "print(\"The accuracy in Poly:\", result2)"
      ]
    },
    {
      "cell_type": "markdown",
      "metadata": {
        "id": "tJnElviaXSTH"
      },
      "source": [
        "Linear Kernel"
      ]
    },
    {
      "cell_type": "code",
      "execution_count": null,
      "metadata": {
        "colab": {
          "base_uri": "https://localhost:8080/"
        },
        "id": "GQIc06YKWqmZ",
        "outputId": "d586f81d-ce44-49bf-adf1-5c12c6e022be"
      },
      "outputs": [
        {
          "name": "stderr",
          "output_type": "stream",
          "text": [
            "/usr/local/lib/python3.7/dist-packages/sklearn/utils/validation.py:993: DataConversionWarning: A column-vector y was passed when a 1d array was expected. Please change the shape of y to (n_samples, ), for example using ravel().\n",
            "  y = column_or_1d(y, warn=True)\n"
          ]
        }
      ],
      "source": [
        "lin_SVR = SVR(kernel = 'linear', C = 1e3).fit(x_train, y_train)\n",
        "lin_SVR_predicted = lin_SVR.predict(x_test)"
      ]
    },
    {
      "cell_type": "code",
      "execution_count": null,
      "metadata": {
        "colab": {
          "base_uri": "https://localhost:8080/"
        },
        "id": "cK1wWpIKWfZF",
        "outputId": "159ff333-232c-4617-cb69-766b3c8a6698"
      },
      "outputs": [
        {
          "name": "stdout",
          "output_type": "stream",
          "text": [
            "The accuracy in Linear: -23.55347986739636\n"
          ]
        }
      ],
      "source": [
        "from sklearn.metrics import accuracy_score\n",
        "result1 = lin_SVR.score(x_test, y_test)\n",
        "print(\"The accuracy in Linear:\", result1)"
      ]
    }
  ],
  "metadata": {
    "accelerator": "GPU",
    "colab": {
      "name": "Comparation of LR_SVR_D-Tree(TGI_Final project).ipynb",
      "provenance": []
    },
    "gpuClass": "standard",
    "kernelspec": {
      "display_name": "Python 3.8.5 ('base')",
      "language": "python",
      "name": "python3"
    },
    "language_info": {
      "name": "python",
      "version": "3.8.5"
    },
    "vscode": {
      "interpreter": {
        "hash": "5ce4d8616aef6b9a242674db95ba29d7003c878aced4428beb2f1308555dd3bd"
      }
    }
  },
  "nbformat": 4,
  "nbformat_minor": 0
}
