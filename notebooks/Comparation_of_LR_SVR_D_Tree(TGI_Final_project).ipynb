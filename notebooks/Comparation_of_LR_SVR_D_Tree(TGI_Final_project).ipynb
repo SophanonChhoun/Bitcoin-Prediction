{
  "cells": [
    {
      "cell_type": "code",
      "execution_count": 36,
      "metadata": {
        "id": "T2lRZnUAd-q6"
      },
      "outputs": [],
      "source": [
        "import numpy as np \n",
        "import pandas as pd \n",
        "import sklearn \n",
        "import matplotlib.pyplot as plt\n",
        "\n",
        "from sklearn import preprocessing \n",
        "from sklearn.model_selection import train_test_split\n",
        "from sklearn.linear_model import LinearRegression \n"
      ]
    },
    {
      "cell_type": "code",
      "execution_count": 37,
      "metadata": {
        "colab": {
          "base_uri": "https://localhost:8080/",
          "height": 73,
          "resources": {
            "http://localhost:8080/nbextensions/google.colab/files.js": {
              "data": "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",
              "headers": [
                [
                  "content-type",
                  "application/javascript"
                ]
              ],
              "ok": true,
              "status": 200,
              "status_text": ""
            }
          }
        },
        "id": "3oNt-P7WeZrJ",
        "outputId": "21604eb6-fe00-443c-9cd7-dd279e880063"
      },
      "outputs": [],
      "source": [
        "# from google.colab import files \n",
        "# file = files.upload()"
      ]
    },
    {
      "cell_type": "code",
      "execution_count": 38,
      "metadata": {
        "colab": {
          "base_uri": "https://localhost:8080/",
          "height": 206
        },
        "id": "-9iiwW3Teif6",
        "outputId": "93ced45b-6796-41e0-fd8f-1cc319943919"
      },
      "outputs": [
        {
          "data": {
            "text/html": [
              "<div>\n",
              "<style scoped>\n",
              "    .dataframe tbody tr th:only-of-type {\n",
              "        vertical-align: middle;\n",
              "    }\n",
              "\n",
              "    .dataframe tbody tr th {\n",
              "        vertical-align: top;\n",
              "    }\n",
              "\n",
              "    .dataframe thead th {\n",
              "        text-align: right;\n",
              "    }\n",
              "</style>\n",
              "<table border=\"1\" class=\"dataframe\">\n",
              "  <thead>\n",
              "    <tr style=\"text-align: right;\">\n",
              "      <th></th>\n",
              "      <th>Date</th>\n",
              "      <th>Price</th>\n",
              "      <th>Open</th>\n",
              "      <th>High</th>\n",
              "      <th>Low</th>\n",
              "      <th>Vol.</th>\n",
              "      <th>Change %</th>\n",
              "    </tr>\n",
              "  </thead>\n",
              "  <tbody>\n",
              "    <tr>\n",
              "      <th>0</th>\n",
              "      <td>Jul 31, 2022</td>\n",
              "      <td>23,303.4</td>\n",
              "      <td>23,634.2</td>\n",
              "      <td>24,179.3</td>\n",
              "      <td>23,236.2</td>\n",
              "      <td>138.84K</td>\n",
              "      <td>-1.40%</td>\n",
              "    </tr>\n",
              "    <tr>\n",
              "      <th>1</th>\n",
              "      <td>Jul 30, 2022</td>\n",
              "      <td>23,634.2</td>\n",
              "      <td>23,774.2</td>\n",
              "      <td>24,605.3</td>\n",
              "      <td>23,521.8</td>\n",
              "      <td>168.72K</td>\n",
              "      <td>-0.59%</td>\n",
              "    </tr>\n",
              "    <tr>\n",
              "      <th>2</th>\n",
              "      <td>Jul 29, 2022</td>\n",
              "      <td>23,774.3</td>\n",
              "      <td>23,850.2</td>\n",
              "      <td>24,340.0</td>\n",
              "      <td>23,451.4</td>\n",
              "      <td>221.66K</td>\n",
              "      <td>-0.32%</td>\n",
              "    </tr>\n",
              "    <tr>\n",
              "      <th>3</th>\n",
              "      <td>Jul 28, 2022</td>\n",
              "      <td>23,850.0</td>\n",
              "      <td>22,957.7</td>\n",
              "      <td>24,190.5</td>\n",
              "      <td>22,611.6</td>\n",
              "      <td>268.32K</td>\n",
              "      <td>3.88%</td>\n",
              "    </tr>\n",
              "    <tr>\n",
              "      <th>4</th>\n",
              "      <td>Jul 27, 2022</td>\n",
              "      <td>22,958.3</td>\n",
              "      <td>21,248.0</td>\n",
              "      <td>23,027.8</td>\n",
              "      <td>21,047.5</td>\n",
              "      <td>242.66K</td>\n",
              "      <td>8.05%</td>\n",
              "    </tr>\n",
              "  </tbody>\n",
              "</table>\n",
              "</div>"
            ],
            "text/plain": [
              "           Date     Price      Open      High       Low     Vol. Change %\n",
              "0  Jul 31, 2022  23,303.4  23,634.2  24,179.3  23,236.2  138.84K   -1.40%\n",
              "1  Jul 30, 2022  23,634.2  23,774.2  24,605.3  23,521.8  168.72K   -0.59%\n",
              "2  Jul 29, 2022  23,774.3  23,850.2  24,340.0  23,451.4  221.66K   -0.32%\n",
              "3  Jul 28, 2022  23,850.0  22,957.7  24,190.5  22,611.6  268.32K    3.88%\n",
              "4  Jul 27, 2022  22,958.3  21,248.0  23,027.8  21,047.5  242.66K    8.05%"
            ]
          },
          "execution_count": 38,
          "metadata": {},
          "output_type": "execute_result"
        }
      ],
      "source": [
        "dataset = pd.read_csv('../datasets/original/dataset.csv')\n",
        "dataset.head()\n"
      ]
    },
    {
      "cell_type": "code",
      "execution_count": 39,
      "metadata": {
        "colab": {
          "base_uri": "https://localhost:8080/"
        },
        "id": "LEA39iDgeyZI",
        "outputId": "16a61e06-8339-4b92-8fc1-60b9b92af791"
      },
      "outputs": [
        {
          "data": {
            "text/plain": [
              "Date        0.0\n",
              "Price       0.0\n",
              "Open        0.0\n",
              "High        0.0\n",
              "Low         0.0\n",
              "Vol.        0.0\n",
              "Change %    0.0\n",
              "dtype: float64"
            ]
          },
          "execution_count": 39,
          "metadata": {},
          "output_type": "execute_result"
        }
      ],
      "source": [
        "dataset.isnull().sum() / len(dataset)"
      ]
    },
    {
      "cell_type": "code",
      "execution_count": 40,
      "metadata": {
        "colab": {
          "base_uri": "https://localhost:8080/"
        },
        "id": "lG3BNZOIpzrA",
        "outputId": "8c784a87-eb88-4f31-9bd2-566b2a0780df"
      },
      "outputs": [],
      "source": [
        "dataset.drop(['Date', 'Vol.', 'Change %'],1, inplace = True)"
      ]
    },
    {
      "cell_type": "code",
      "execution_count": 41,
      "metadata": {
        "colab": {
          "base_uri": "https://localhost:8080/",
          "height": 206
        },
        "id": "j_UDAfjyprGK",
        "outputId": "3ba8f249-7fde-411f-ff11-ca2f2b4ab348"
      },
      "outputs": [
        {
          "data": {
            "text/html": [
              "<div>\n",
              "<style scoped>\n",
              "    .dataframe tbody tr th:only-of-type {\n",
              "        vertical-align: middle;\n",
              "    }\n",
              "\n",
              "    .dataframe tbody tr th {\n",
              "        vertical-align: top;\n",
              "    }\n",
              "\n",
              "    .dataframe thead th {\n",
              "        text-align: right;\n",
              "    }\n",
              "</style>\n",
              "<table border=\"1\" class=\"dataframe\">\n",
              "  <thead>\n",
              "    <tr style=\"text-align: right;\">\n",
              "      <th></th>\n",
              "      <th>Price</th>\n",
              "      <th>Open</th>\n",
              "      <th>High</th>\n",
              "      <th>Low</th>\n",
              "    </tr>\n",
              "  </thead>\n",
              "  <tbody>\n",
              "    <tr>\n",
              "      <th>0</th>\n",
              "      <td>23,303.4</td>\n",
              "      <td>23,634.2</td>\n",
              "      <td>24,179.3</td>\n",
              "      <td>23,236.2</td>\n",
              "    </tr>\n",
              "    <tr>\n",
              "      <th>1</th>\n",
              "      <td>23,634.2</td>\n",
              "      <td>23,774.2</td>\n",
              "      <td>24,605.3</td>\n",
              "      <td>23,521.8</td>\n",
              "    </tr>\n",
              "    <tr>\n",
              "      <th>2</th>\n",
              "      <td>23,774.3</td>\n",
              "      <td>23,850.2</td>\n",
              "      <td>24,340.0</td>\n",
              "      <td>23,451.4</td>\n",
              "    </tr>\n",
              "    <tr>\n",
              "      <th>3</th>\n",
              "      <td>23,850.0</td>\n",
              "      <td>22,957.7</td>\n",
              "      <td>24,190.5</td>\n",
              "      <td>22,611.6</td>\n",
              "    </tr>\n",
              "    <tr>\n",
              "      <th>4</th>\n",
              "      <td>22,958.3</td>\n",
              "      <td>21,248.0</td>\n",
              "      <td>23,027.8</td>\n",
              "      <td>21,047.5</td>\n",
              "    </tr>\n",
              "  </tbody>\n",
              "</table>\n",
              "</div>"
            ],
            "text/plain": [
              "      Price      Open      High       Low\n",
              "0  23,303.4  23,634.2  24,179.3  23,236.2\n",
              "1  23,634.2  23,774.2  24,605.3  23,521.8\n",
              "2  23,774.3  23,850.2  24,340.0  23,451.4\n",
              "3  23,850.0  22,957.7  24,190.5  22,611.6\n",
              "4  22,958.3  21,248.0  23,027.8  21,047.5"
            ]
          },
          "execution_count": 41,
          "metadata": {},
          "output_type": "execute_result"
        }
      ],
      "source": [
        "dataset.head(5)"
      ]
    },
    {
      "cell_type": "code",
      "execution_count": 43,
      "metadata": {
        "colab": {
          "base_uri": "https://localhost:8080/",
          "height": 206
        },
        "id": "herC4nJRqkDI",
        "outputId": "0c290e1d-b9c3-4c1b-d1ec-bed707a2fee6"
      },
      "outputs": [
        {
          "data": {
            "text/html": [
              "<div>\n",
              "<style scoped>\n",
              "    .dataframe tbody tr th:only-of-type {\n",
              "        vertical-align: middle;\n",
              "    }\n",
              "\n",
              "    .dataframe tbody tr th {\n",
              "        vertical-align: top;\n",
              "    }\n",
              "\n",
              "    .dataframe thead th {\n",
              "        text-align: right;\n",
              "    }\n",
              "</style>\n",
              "<table border=\"1\" class=\"dataframe\">\n",
              "  <thead>\n",
              "    <tr style=\"text-align: right;\">\n",
              "      <th></th>\n",
              "      <th>Price</th>\n",
              "      <th>Open</th>\n",
              "      <th>High</th>\n",
              "      <th>Low</th>\n",
              "      <th>Prediction</th>\n",
              "    </tr>\n",
              "  </thead>\n",
              "  <tbody>\n",
              "    <tr>\n",
              "      <th>0</th>\n",
              "      <td>23,303.4</td>\n",
              "      <td>23,634.2</td>\n",
              "      <td>24,179.3</td>\n",
              "      <td>23,236.2</td>\n",
              "      <td>19,262.9</td>\n",
              "    </tr>\n",
              "    <tr>\n",
              "      <th>1</th>\n",
              "      <td>23,634.2</td>\n",
              "      <td>23,774.2</td>\n",
              "      <td>24,605.3</td>\n",
              "      <td>23,521.8</td>\n",
              "      <td>19,926.6</td>\n",
              "    </tr>\n",
              "    <tr>\n",
              "      <th>2</th>\n",
              "      <td>23,774.3</td>\n",
              "      <td>23,850.2</td>\n",
              "      <td>24,340.0</td>\n",
              "      <td>23,451.4</td>\n",
              "      <td>20,111.3</td>\n",
              "    </tr>\n",
              "    <tr>\n",
              "      <th>3</th>\n",
              "      <td>23,850.0</td>\n",
              "      <td>22,957.7</td>\n",
              "      <td>24,190.5</td>\n",
              "      <td>22,611.6</td>\n",
              "      <td>20,278.0</td>\n",
              "    </tr>\n",
              "    <tr>\n",
              "      <th>4</th>\n",
              "      <td>22,958.3</td>\n",
              "      <td>21,248.0</td>\n",
              "      <td>23,027.8</td>\n",
              "      <td>21,047.5</td>\n",
              "      <td>20,730.2</td>\n",
              "    </tr>\n",
              "  </tbody>\n",
              "</table>\n",
              "</div>"
            ],
            "text/plain": [
              "      Price      Open      High       Low Prediction\n",
              "0  23,303.4  23,634.2  24,179.3  23,236.2   19,262.9\n",
              "1  23,634.2  23,774.2  24,605.3  23,521.8   19,926.6\n",
              "2  23,774.3  23,850.2  24,340.0  23,451.4   20,111.3\n",
              "3  23,850.0  22,957.7  24,190.5  22,611.6   20,278.0\n",
              "4  22,958.3  21,248.0  23,027.8  21,047.5   20,730.2"
            ]
          },
          "execution_count": 43,
          "metadata": {},
          "output_type": "execute_result"
        }
      ],
      "source": [
        "dataset.head(5)"
      ]
    },
    {
      "cell_type": "code",
      "execution_count": 44,
      "metadata": {
        "colab": {
          "base_uri": "https://localhost:8080/"
        },
        "id": "FgzTzqveq0k_",
        "outputId": "a64c5623-2a50-4d34-e8b9-4e5c6690bcf3"
      },
      "outputs": [
        {
          "name": "stdout",
          "output_type": "stream",
          "text": [
            "[[23303.4 23634.2 24179.3 23236.2]\n",
            " [23634.2 23774.2 24605.3 23521.8]\n",
            " [23774.3 23850.2 24340.0 23451.4]\n",
            " ...\n",
            " [3715.9 3809.7 3828.4 3681.8]\n",
            " [3809.5 3823.2 3836.6 3789.7]\n",
            " [3823.1 3821.9 3843.2 3783.6]]\n"
          ]
        }
      ],
      "source": [
        "# create the independent dataset\n",
        "\n",
        "# convert the dataset into numpy array\n",
        "x = np.array(dataset.drop([\"Price\"], 1))\n",
        "\n",
        "# remove comma in every element\n",
        "for key, i in enumerate(x):\n",
        "  for index, j in enumerate(i):\n",
        "    j = j.replace(\",\", \"\")\n",
        "\n",
        "    j = float(j)  # convert to float\n",
        "    i[index] = j  # assigned the value\n",
        "\n",
        "  x[key] = i  # assign the value to the key\n",
        "\n",
        "print(x)\n"
      ]
    },
    {
      "cell_type": "code",
      "execution_count": 45,
      "metadata": {
        "colab": {
          "base_uri": "https://localhost:8080/"
        },
        "id": "uJn5O17Irmd4",
        "outputId": "f8dc11ab-bff4-4968-9cbd-d08ab6033414"
      },
      "outputs": [
        {
          "name": "stdout",
          "output_type": "stream",
          "text": [
            "['19,262.9' '19,926.6' '20,111.3' ... '3,502.5' '3,467.9' '3,437.2']\n"
          ]
        }
      ],
      "source": [
        "# create dependent dataset \n",
        "y = np.array(dataset[\"Prediction\"])\n",
        "\n",
        "# get all of the value except the last 30 row \n",
        "y = y[:-prediction_days]\n",
        "print(y)"
      ]
    },
    {
      "cell_type": "code",
      "execution_count": 46,
      "metadata": {
        "colab": {
          "base_uri": "https://localhost:8080/"
        },
        "id": "9yylEByGtc-S",
        "outputId": "245ab5e8-dfd8-4daa-b2df-bdb7141989c7"
      },
      "outputs": [
        {
          "name": "stdout",
          "output_type": "stream",
          "text": [
            "[['19,262.9']\n",
            " ['19,926.6']\n",
            " ['20,111.3']\n",
            " ...\n",
            " ['3,502.5']\n",
            " ['3,467.9']\n",
            " ['3,437.2']]\n"
          ]
        }
      ],
      "source": [
        "y = y.reshape(-1,1)\n",
        "print(y)"
      ]
    },
    {
      "cell_type": "code",
      "execution_count": 47,
      "metadata": {
        "colab": {
          "base_uri": "https://localhost:8080/"
        },
        "id": "_tEa_a1kKMIq",
        "outputId": "f988c1a9-30f9-41d9-a4fc-4c4c4c041a09"
      },
      "outputs": [
        {
          "name": "stdout",
          "output_type": "stream",
          "text": [
            "[[19262.9]\n",
            " [19926.6]\n",
            " [20111.3]\n",
            " ...\n",
            " [3502.5]\n",
            " [3467.9]\n",
            " [3437.2]]\n"
          ]
        }
      ],
      "source": [
        "# remove comma in every element\n",
        "for m in y :\n",
        "  for n in m : \n",
        "    n = n.replace(\",\",\"\")\n",
        "     \n",
        "    n = float(n) # convert to float\n",
        "    m[0] = n # assigned the value\n",
        "print(y)"
      ]
    },
    {
      "cell_type": "code",
      "execution_count": 48,
      "metadata": {
        "colab": {
          "base_uri": "https://localhost:8080/"
        },
        "id": "g3PVUQzigYTt",
        "outputId": "dbd2d033-eccd-495e-9bfe-f0ba697bb829"
      },
      "outputs": [
        {
          "name": "stdout",
          "output_type": "stream",
          "text": [
            "(998, 4)\n",
            "(250, 4)\n"
          ]
        }
      ],
      "source": [
        "# split the dataset\n",
        "x_train, x_test, y_train, y_test = train_test_split(x,y, test_size =0.2, random_state = 1)\n",
        "\n",
        "print(x_train.shape)\n",
        "print(x_test.shape)"
      ]
    },
    {
      "cell_type": "code",
      "execution_count": 49,
      "metadata": {
        "colab": {
          "base_uri": "https://localhost:8080/"
        },
        "id": "UPRDFw7OsPu6",
        "outputId": "3a413b01-95a3-465c-a596-0183b187ee27"
      },
      "outputs": [
        {
          "name": "stdout",
          "output_type": "stream",
          "text": [
            "[['3,821.9' '3,816.7' '3,855.8' '3,816.4']\n",
            " ['3,816.6' '3,814.6' '3,883.7' '3,783.3']\n",
            " ['3,814.6' '3,810.3' '3,836.4' '3,701.9']\n",
            " ['3,810.3' '3,833.5' '3,845.5' '3,775.0']\n",
            " ['3,833.7' '3,755.7' '3,870.7' '3,753.8']\n",
            " ['3,755.2' '4,120.5' '4,194.2' '3,738.7']\n",
            " ['4,120.4' '3,965.2' '4,152.6' '3,939.4']\n",
            " ['3,965.2' '3,937.4' '3,983.1' '3,931.7']\n",
            " ['3,936.6' '3,972.0' '4,011.5' '3,909.2']\n",
            " ['3,972.4' '3,914.3' '3,983.6' '3,881.2']\n",
            " ['3,914.3' '3,896.4' '3,993.8' '3,863.7']\n",
            " ['3,896.0' '3,664.2' '3,903.7' '3,655.1']\n",
            " ['3,664.2' '3,616.8' '3,689.9' '3,607.9']\n",
            " ['3,616.8' '3,604.7' '3,641.9' '3,599.7']\n",
            " ['3,604.7' '3,592.6' '3,648.3' '3,581.4']\n",
            " ['3,592.6' '3,611.5' '3,624.5' '3,580.2']\n",
            " ['3,611.5' '3,632.0' '3,663.5' '3,599.2']\n",
            " ['3,632.0' '3,631.8' '3,656.4' '3,594.4']\n",
            " ['3,631.8' '3,678.8' '3,681.1' '3,623.8']\n",
            " ['3,679.0' '3,661.0' '3,680.6' '3,617.1']\n",
            " ['3,661.4' '3,661.6' '3,675.3' '3,633.2']\n",
            " ['3,661.7' '3,397.3' '3,721.1' '3,382.5']\n",
            " ['3,397.7' '3,404.9' '3,421.8' '3,390.3']\n",
            " ['3,404.3' '3,468.5' '3,478.0' '3,383.9']\n",
            " ['3,468.4' '3,463.0' '3,485.9' '3,450.3']\n",
            " ['3,462.8' '3,459.0' '3,479.7' '3,437.1']\n",
            " ['3,459.1' '3,502.3' '3,507.8' '3,431.3']\n",
            " ['3,502.5' '3,467.9' '3,514.5' '3,447.8']\n",
            " ['3,467.9' '3,437.7' '3,485.7' '3,415.3']\n",
            " ['3,437.2' '3,460.0' '3,484.7' '3,427.0']]\n"
          ]
        }
      ],
      "source": [
        "# set the prediction_days_array equal to the last 30 rows from the origianl dataset \n",
        "prediction_days_array = np.array(dataset.drop([\"Prediction\"],1))[-prediction_days:]\n",
        "print(prediction_days_array)"
      ]
    },
    {
      "cell_type": "markdown",
      "metadata": {
        "id": "efI2zqnDsyRW"
      },
      "source": [
        "# Linear Regression Model"
      ]
    },
    {
      "cell_type": "code",
      "execution_count": 50,
      "metadata": {
        "id": "tmyOQKKzg7nf"
      },
      "outputs": [],
      "source": [
        "# Build the model \n",
        "linear_regression = LinearRegression()"
      ]
    },
    {
      "cell_type": "code",
      "execution_count": 51,
      "metadata": {
        "id": "eMmoDsQ2ikAl"
      },
      "outputs": [],
      "source": [
        "model = linear_regression.fit(x_train, y_train)"
      ]
    },
    {
      "cell_type": "code",
      "execution_count": 52,
      "metadata": {
        "colab": {
          "base_uri": "https://localhost:8080/"
        },
        "id": "l8Z6dBhEir2X",
        "outputId": "04e676b1-8ed6-47d9-a1e7-283ef515fbc6"
      },
      "outputs": [
        {
          "name": "stdout",
          "output_type": "stream",
          "text": [
            "[774.82766333]\n",
            "[[-1.01611486  0.45887425  0.79689868  0.70695375]]\n"
          ]
        }
      ],
      "source": [
        "# find intercept and slope ( coefficient )\n",
        "Q_0 = model.intercept_\n",
        "print(Q_0)\n",
        "\n",
        "Q_1 = model.coef_\n",
        "print(Q_1)"
      ]
    },
    {
      "cell_type": "code",
      "execution_count": 53,
      "metadata": {
        "colab": {
          "base_uri": "https://localhost:8080/"
        },
        "id": "QS9TTuaKi7qr",
        "outputId": "77409655-d4d9-43b8-ae0b-b677c470338a"
      },
      "outputs": [
        {
          "name": "stdout",
          "output_type": "stream",
          "text": [
            "[[ 6141.92034246]\n",
            " [11839.09889243]\n",
            " [ 9503.93592411]\n",
            " [37063.07164234]\n",
            " [49330.86745676]\n",
            " [44647.85117161]\n",
            " [62309.64048696]\n",
            " [38563.449013  ]\n",
            " [57806.24507804]\n",
            " [59794.37902839]\n",
            " [ 7967.25408405]\n",
            " [40121.41696988]\n",
            " [11064.15673513]\n",
            " [ 7752.92563026]\n",
            " [35327.28531727]\n",
            " [ 8898.28641738]\n",
            " [ 6800.85181605]\n",
            " [46682.14573001]\n",
            " [ 9368.89816203]\n",
            " [ 8659.85414619]\n",
            " [ 5565.49072348]\n",
            " [11686.53887668]\n",
            " [35999.57524382]\n",
            " [10193.94802848]\n",
            " [ 5449.04962868]\n",
            " [45738.51007805]\n",
            " [43767.71312014]\n",
            " [ 5722.61771902]\n",
            " [10353.81623776]\n",
            " [12970.95125831]\n",
            " [ 9065.82444679]\n",
            " [ 7583.14857621]\n",
            " [ 8882.20852403]\n",
            " [28513.87760937]\n",
            " [38558.83048255]\n",
            " [ 7947.62161042]\n",
            " [11131.59396006]\n",
            " [17735.42184685]\n",
            " [ 4774.70208983]\n",
            " [50135.87352753]\n",
            " [47504.39094819]\n",
            " [ 6376.18051386]\n",
            " [36960.27857737]\n",
            " [ 7745.55647499]\n",
            " [11004.24649537]\n",
            " [ 8359.81308219]\n",
            " [ 7521.86467027]\n",
            " [ 7842.58038938]\n",
            " [ 4583.29643663]\n",
            " [35701.4772376 ]\n",
            " [59151.16952609]\n",
            " [40074.23197625]\n",
            " [33898.67124607]\n",
            " [28135.12220962]\n",
            " [44457.3597684 ]\n",
            " [10557.45016416]\n",
            " [39980.33800999]\n",
            " [40856.55012113]\n",
            " [30736.66684465]\n",
            " [53795.05386642]\n",
            " [ 8855.41114041]\n",
            " [ 9823.36986006]\n",
            " [31343.97149272]\n",
            " [19503.51997952]\n",
            " [27765.69709213]\n",
            " [28872.28727636]\n",
            " [33138.04219023]\n",
            " [10754.20090075]\n",
            " [13306.50717204]\n",
            " [ 9493.51885635]\n",
            " [15387.00096104]\n",
            " [ 7398.84409686]\n",
            " [10002.56354717]\n",
            " [ 7197.63303031]\n",
            " [36271.1813111 ]\n",
            " [ 9840.524964  ]\n",
            " [ 7404.28050313]\n",
            " [28322.40293945]\n",
            " [35272.7852883 ]\n",
            " [31436.44530236]\n",
            " [ 9907.9980735 ]\n",
            " [35242.62457558]\n",
            " [10139.41919832]\n",
            " [ 5787.37845234]\n",
            " [ 7543.14293002]\n",
            " [54765.59860289]\n",
            " [11553.48687124]\n",
            " [ 7549.23959259]\n",
            " [ 5680.79576596]\n",
            " [10136.02624863]\n",
            " [23222.43356845]\n",
            " [31626.30436291]\n",
            " [ 7980.51865285]\n",
            " [57719.78747278]\n",
            " [18684.02907418]\n",
            " [53353.33600008]\n",
            " [40301.2624698 ]\n",
            " [60942.94275919]\n",
            " [35825.15128053]\n",
            " [21514.98655748]\n",
            " [ 9668.71325017]\n",
            " [10911.64845014]\n",
            " [64833.09262616]\n",
            " [40772.96617815]\n",
            " [55977.80226296]\n",
            " [11209.1031326 ]\n",
            " [47035.61356577]\n",
            " [12271.1450216 ]\n",
            " [ 9194.28642454]\n",
            " [13348.8979916 ]\n",
            " [37806.07469395]\n",
            " [39894.58470717]\n",
            " [48410.37966774]\n",
            " [ 7590.365961  ]\n",
            " [ 9643.1339217 ]\n",
            " [41444.2025522 ]\n",
            " [23943.70389023]\n",
            " [37205.57777739]\n",
            " [36234.93151647]\n",
            " [39268.25246829]\n",
            " [ 8859.61385926]\n",
            " [39279.1058115 ]\n",
            " [10692.34032395]\n",
            " [59505.42537014]\n",
            " [17604.35064373]\n",
            " [29240.17500525]\n",
            " [29750.86485221]\n",
            " [10536.26979583]\n",
            " [10050.35536283]\n",
            " [ 9782.78666377]\n",
            " [15578.51931298]\n",
            " [ 6326.49921087]\n",
            " [10570.40431198]\n",
            " [22353.53052839]\n",
            " [30967.4157057 ]\n",
            " [18743.69762125]\n",
            " [39199.86149891]\n",
            " [10161.03383916]\n",
            " [47397.86301157]\n",
            " [42432.43982722]\n",
            " [ 8253.03165924]\n",
            " [ 9416.13209331]\n",
            " [ 4559.14492373]\n",
            " [41146.45065147]\n",
            " [ 9616.85427067]\n",
            " [58126.01164867]\n",
            " [53156.268342  ]\n",
            " [39728.31310949]\n",
            " [42723.49601991]\n",
            " [37387.18953561]\n",
            " [ 7599.0053209 ]\n",
            " [ 5524.66427056]\n",
            " [40349.74099648]\n",
            " [ 9454.55663324]\n",
            " [11171.52402259]\n",
            " [10582.02712246]\n",
            " [27423.4422677 ]\n",
            " [ 7276.51893869]\n",
            " [ 7412.04920767]\n",
            " [28041.96143977]\n",
            " [ 6004.18258699]\n",
            " [21494.31861279]\n",
            " [59123.784912  ]\n",
            " [25516.93064146]\n",
            " [ 7622.18071646]\n",
            " [10184.64441188]\n",
            " [ 9908.2050755 ]\n",
            " [22585.19507716]\n",
            " [17674.11173296]\n",
            " [ 9977.43438111]\n",
            " [21797.75962644]\n",
            " [12511.79498418]\n",
            " [10426.56175023]\n",
            " [10719.4364736 ]\n",
            " [31420.46865907]\n",
            " [32873.4015702 ]\n",
            " [38066.27614553]\n",
            " [34167.34851424]\n",
            " [44264.55417534]\n",
            " [41450.00545667]\n",
            " [50394.82283204]\n",
            " [ 9483.13706522]\n",
            " [ 7825.47607793]\n",
            " [37570.00602588]\n",
            " [31129.84307092]\n",
            " [22215.87455513]\n",
            " [36341.49814381]\n",
            " [ 9850.89918031]\n",
            " [45360.26508115]\n",
            " [ 8350.9726616 ]\n",
            " [32041.52986188]\n",
            " [46141.65027721]\n",
            " [ 7798.70253459]\n",
            " [19901.97003112]\n",
            " [39175.38217381]\n",
            " [49707.14177131]\n",
            " [60932.71307483]\n",
            " [35463.68147764]\n",
            " [ 8586.78423318]\n",
            " [28428.62963782]\n",
            " [11869.47837795]\n",
            " [52676.93575744]\n",
            " [ 9237.82169918]\n",
            " [ 9629.11198109]\n",
            " [ 8479.34908588]\n",
            " [40997.8433832 ]\n",
            " [19452.49396395]\n",
            " [10512.23417858]\n",
            " [59433.10518782]\n",
            " [56619.46435196]\n",
            " [32503.41946258]\n",
            " [15255.04116805]\n",
            " [32993.02404454]\n",
            " [22486.58574703]\n",
            " [ 9535.44128595]\n",
            " [33282.48935015]\n",
            " [33611.68537062]\n",
            " [40736.57412557]\n",
            " [ 9107.82137124]\n",
            " [ 9985.96165699]\n",
            " [11214.53168652]\n",
            " [13670.52150514]\n",
            " [48204.9637242 ]\n",
            " [ 4482.05739212]\n",
            " [ 9852.7955206 ]\n",
            " [ 9554.12510518]\n",
            " [19943.40197401]\n",
            " [56981.64560741]\n",
            " [41166.87504468]\n",
            " [45413.02380661]\n",
            " [ 7260.83082741]\n",
            " [38574.40024883]\n",
            " [49489.00282081]\n",
            " [10778.78059678]\n",
            " [58422.03048725]\n",
            " [38376.55342941]\n",
            " [ 8853.32367537]\n",
            " [46163.87879868]\n",
            " [ 8573.17443105]\n",
            " [41496.98434705]\n",
            " [45602.57894097]\n",
            " [ 8535.158808  ]\n",
            " [63907.25687632]\n",
            " [38858.02144763]\n",
            " [30361.86103979]\n",
            " [45663.32122833]\n",
            " [ 5826.7252021 ]\n",
            " [ 9844.73527373]\n",
            " [ 9108.66267681]\n",
            " [ 9535.6118173 ]]\n"
          ]
        }
      ],
      "source": [
        "Linear_prediction = model.predict(x_test)\n",
        "print(Linear_prediction)"
      ]
    },
    {
      "cell_type": "code",
      "execution_count": 54,
      "metadata": {
        "id": "3hR_dsnbMsVk"
      },
      "outputs": [],
      "source": [
        "Actual_value = y_test.reshape(-1)\n",
        "Linear_prediction = Linear_prediction.reshape(-1)"
      ]
    },
    {
      "cell_type": "code",
      "execution_count": 55,
      "metadata": {
        "colab": {
          "base_uri": "https://localhost:8080/"
        },
        "id": "254y7PEyj4Wg",
        "outputId": "696040a9-8239-45fe-9c65-9ccbf3458f70"
      },
      "outputs": [
        {
          "name": "stdout",
          "output_type": "stream",
          "text": [
            "     Linear_Prediction Actual Value\n",
            "0          6141.920342       9655.7\n",
            "1         11839.098892       9387.3\n",
            "2          9503.935924       7488.5\n",
            "3         37063.071642      48963.6\n",
            "4         49330.867457      63273.2\n",
            "..                 ...          ...\n",
            "245       45663.321228      63597.9\n",
            "246        5826.725202       3994.7\n",
            "247        9844.735274       8706.2\n",
            "248        9108.662677      10162.5\n",
            "249        9535.611817       6850.9\n",
            "\n",
            "[250 rows x 2 columns]\n"
          ]
        }
      ],
      "source": [
        "my_datasets = pd.DataFrame({\"Linear_Prediction\" : Linear_prediction, \"Actual Value\" : Actual_value })\n",
        "print(my_datasets)"
      ]
    },
    {
      "cell_type": "code",
      "execution_count": 56,
      "metadata": {
        "colab": {
          "base_uri": "https://localhost:8080/",
          "height": 295
        },
        "id": "FFilCDV4ov3B",
        "outputId": "f3aaadf6-ed26-484a-87dd-e890fbf854c4"
      },
      "outputs": [
        {
          "data": {
            "image/png": "[encoded data removed]",
            "text/plain": [
              "<Figure size 432x288 with 1 Axes>"
            ]
          },
          "metadata": {
            "needs_background": "light"
          },
          "output_type": "display_data"
        }
      ],
      "source": [
        "# Plot between predicted value and True value\n",
        "plt.plot(y_test, label = \"Actual value\", color =\"b\")\n",
        "plt.plot(Linear_prediction, label = \"Predicted value\", color =\"r\")\n",
        "plt.title(\"Prediction by Linear regression\")\n",
        "plt.xlabel(\"Time scale\")\n",
        "plt.ylabel(\"Scale USD\")\n",
        "plt.legend()\n",
        "plt.show()"
      ]
    },
    {
      "cell_type": "code",
      "execution_count": 57,
      "metadata": {
        "colab": {
          "base_uri": "https://localhost:8080/"
        },
        "id": "prxMz_S1kWwn",
        "outputId": "1b184c17-773b-48d3-94ba-eedd1801daad"
      },
      "outputs": [
        {
          "name": "stdout",
          "output_type": "stream",
          "text": [
            "The accuracy between actual and predicted is: 0.8592859124922206\n",
            "The R2 score is: 0.8592859124922206\n"
          ]
        }
      ],
      "source": [
        "from sklearn.metrics import accuracy_score, r2_score\n",
        "result = model.score(x_test, y_test)\n",
        "print(\"The accuracy between actual and predicted is:\",result)\n",
        "print(\"The R2 score is:\",r2_score(y_test, Linear_prediction))"
      ]
    },
    {
      "cell_type": "markdown",
      "metadata": {
        "id": "7XVxJUjcNsaa"
      },
      "source": [
        "# Decision Tree "
      ]
    },
    {
      "cell_type": "code",
      "execution_count": 58,
      "metadata": {
        "id": "sn4zDVQnNwmv"
      },
      "outputs": [],
      "source": [
        "from sklearn.tree import DecisionTreeRegressor \n",
        "model = DecisionTreeRegressor().fit(x_train, y_train)"
      ]
    },
    {
      "cell_type": "code",
      "execution_count": 59,
      "metadata": {
        "id": "DNjuDc1APZCk"
      },
      "outputs": [],
      "source": [
        "DecisionTree_Prediction = model.predict(x_test)"
      ]
    },
    {
      "cell_type": "code",
      "execution_count": 60,
      "metadata": {
        "colab": {
          "base_uri": "https://localhost:8080/"
        },
        "id": "b1RRhiS0QilH",
        "outputId": "36986173-bb14-44f3-cbdd-2b2c5f71ecfc"
      },
      "outputs": [
        {
          "name": "stdout",
          "output_type": "stream",
          "text": [
            "     Decision_Prediction Actual Value\n",
            "0                 5307.8       9655.7\n",
            "1                 9135.3       9387.3\n",
            "2                 9199.1       7488.5\n",
            "3                18546.0      48963.6\n",
            "4                53730.9      63273.2\n",
            "..                   ...          ...\n",
            "245              37646.8      63597.9\n",
            "246               4859.3       3994.7\n",
            "247               9888.7       8706.2\n",
            "248               5493.8      10162.5\n",
            "249               9177.0       6850.9\n",
            "\n",
            "[250 rows x 2 columns]\n"
          ]
        }
      ],
      "source": [
        "my_datasets = pd.DataFrame({\"Decision_Prediction\" : DecisionTree_Prediction, \"Actual Value\" : Actual_value })\n",
        "print(my_datasets)"
      ]
    },
    {
      "cell_type": "code",
      "execution_count": 61,
      "metadata": {
        "colab": {
          "base_uri": "https://localhost:8080/"
        },
        "id": "IohgbJ82PkJg",
        "outputId": "ec84733e-2215-47ad-ba2a-6b36f068df37"
      },
      "outputs": [
        {
          "name": "stdout",
          "output_type": "stream",
          "text": [
            "0.7949364702297164\n",
            "Accuracy 0.7949364702297164\n"
          ]
        }
      ],
      "source": [
        "from sklearn.metrics import r2_score\n",
        "score = r2_score(y_test, DecisionTree_Prediction)\n",
        "print(score)\n",
        "print(\"Accuracy\", model.score(x_test, y_test))"
      ]
    },
    {
      "cell_type": "code",
      "execution_count": 62,
      "metadata": {
        "colab": {
          "base_uri": "https://localhost:8080/",
          "height": 295
        },
        "id": "zODm-i95WCf0",
        "outputId": "d30783bd-7aa5-47e6-f16d-6e095a106ed6"
      },
      "outputs": [
        {
          "data": {
            "image/png": "[encoded data removed]",
            "text/plain": [
              "<Figure size 432x288 with 1 Axes>"
            ]
          },
          "metadata": {
            "needs_background": "light"
          },
          "output_type": "display_data"
        }
      ],
      "source": [
        "# Plot between predicted value and True value\n",
        "plt.plot(y_test, label = \"Actual value\", color =\"b\")\n",
        "plt.plot(DecisionTree_Prediction, label = \"Predicted value\", color =\"r\")\n",
        "plt.title(\"Prediction by Linear regression\")\n",
        "plt.xlabel(\"Time scale\")\n",
        "plt.ylabel(\"Scale USD\")\n",
        "plt.legend()\n",
        "plt.show()"
      ]
    },
    {
      "cell_type": "markdown",
      "metadata": {
        "id": "dYZ54QhWQ3Fe"
      },
      "source": [
        "# SVR "
      ]
    },
    {
      "cell_type": "code",
      "execution_count": 63,
      "metadata": {
        "id": "6sRfmqJKQ2h4"
      },
      "outputs": [],
      "source": [
        "from sklearn.svm import SVR"
      ]
    },
    {
      "cell_type": "markdown",
      "metadata": {
        "id": "fVimtVyvXbTE"
      },
      "source": [
        "Radial Basis Function Kernel"
      ]
    },
    {
      "cell_type": "code",
      "execution_count": 64,
      "metadata": {
        "colab": {
          "base_uri": "https://localhost:8080/"
        },
        "id": "ak0mjXEbRazp",
        "outputId": "8ef536f0-698e-4b4c-f4ff-6230802f1a73"
      },
      "outputs": [
        {
          "name": "stderr",
          "output_type": "stream",
          "text": [
            "/Users/chhounsophanon/.local/lib/python3.8/site-packages/sklearn/utils/validation.py:72: DataConversionWarning: A column-vector y was passed when a 1d array was expected. Please change the shape of y to (n_samples, ), for example using ravel().\n",
            "  return f(**kwargs)\n"
          ]
        }
      ],
      "source": [
        "rbf_SVR = SVR(kernel = 'rbf', C = 1e3, gamma = 0.0000001).fit(x_train, y_train)\n",
        "rbf_SVR_predicted = rbf_SVR.predict(x_test)"
      ]
    },
    {
      "cell_type": "code",
      "execution_count": 65,
      "metadata": {
        "colab": {
          "base_uri": "https://localhost:8080/"
        },
        "id": "zXU7KrVeRg4E",
        "outputId": "17bbe573-e882-4ff6-ef74-676d3b46aa53"
      },
      "outputs": [
        {
          "name": "stdout",
          "output_type": "stream",
          "text": [
            "The accuracy in RBF: 0.8260061359206088\n",
            "The R2 score in RBF: 0.8260061359206088\n"
          ]
        }
      ],
      "source": [
        "from sklearn.metrics import accuracy_score, r2_score\n",
        "result3 = rbf_SVR.score(x_test, y_test)\n",
        "print(\"The accuracy in RBF:\", result3)\n",
        "print(\"The R2 score in RBF:\", r2_score(y_test, rbf_SVR_predicted))"
      ]
    },
    {
      "cell_type": "code",
      "execution_count": 66,
      "metadata": {
        "colab": {
          "base_uri": "https://localhost:8080/",
          "height": 295
        },
        "id": "31iDu4Z8Rgqn",
        "outputId": "f44f7066-1a47-47a9-e034-bb6d35000d97"
      },
      "outputs": [
        {
          "data": {
            "image/png": "[encoded data removed]",
            "text/plain": [
              "<Figure size 432x288 with 1 Axes>"
            ]
          },
          "metadata": {
            "needs_background": "light"
          },
          "output_type": "display_data"
        }
      ],
      "source": [
        "# Plot between predicted value and True value\n",
        "plt.plot(y_test, label = \"Actual value\", color =\"b\")\n",
        "plt.plot(rbf_SVR_predicted, label = \"Predicted value\", color =\"r\")\n",
        "plt.title(\"Prediction by Linear regression\")\n",
        "plt.xlabel(\"Time scale\")\n",
        "plt.ylabel(\"Scale USD\")\n",
        "plt.legend()\n",
        "plt.show()"
      ]
    },
    {
      "cell_type": "markdown",
      "metadata": {
        "id": "RIXBli2pXLF5"
      },
      "source": [
        "Polynomial Kernel"
      ]
    },
    {
      "cell_type": "code",
      "execution_count": 67,
      "metadata": {
        "colab": {
          "base_uri": "https://localhost:8080/"
        },
        "id": "5jLYXDTQWTpL",
        "outputId": "0babfe8c-ea12-492d-9e86-4a08989f2b83"
      },
      "outputs": [
        {
          "name": "stderr",
          "output_type": "stream",
          "text": [
            "/Users/chhounsophanon/.local/lib/python3.8/site-packages/sklearn/utils/validation.py:72: DataConversionWarning: A column-vector y was passed when a 1d array was expected. Please change the shape of y to (n_samples, ), for example using ravel().\n",
            "  return f(**kwargs)\n"
          ]
        }
      ],
      "source": [
        "poly_SVR = SVR(kernel = 'poly', C = 1000.0, degree = 2).fit(x_train, y_train)\n",
        "poly_SVR_predicted = poly_SVR.predict(x_test)"
      ]
    },
    {
      "cell_type": "code",
      "execution_count": 68,
      "metadata": {
        "colab": {
          "base_uri": "https://localhost:8080/"
        },
        "id": "nH-m8rA-WXE6",
        "outputId": "c4362f4f-15be-49b6-a919-6966f92b26df"
      },
      "outputs": [
        {
          "name": "stdout",
          "output_type": "stream",
          "text": [
            "The accuracy in Poly: 0.7325915628608674\n"
          ]
        }
      ],
      "source": [
        "from sklearn.metrics import accuracy_score\n",
        "result2 = poly_SVR.score(x_test, y_test)\n",
        "print(\"The accuracy in Poly:\", result2)"
      ]
    },
    {
      "cell_type": "markdown",
      "metadata": {
        "id": "tJnElviaXSTH"
      },
      "source": [
        "Linear Kernel"
      ]
    },
    {
      "cell_type": "code",
      "execution_count": 69,
      "metadata": {
        "colab": {
          "base_uri": "https://localhost:8080/"
        },
        "id": "GQIc06YKWqmZ",
        "outputId": "d586f81d-ce44-49bf-adf1-5c12c6e022be"
      },
      "outputs": [
        {
          "name": "stderr",
          "output_type": "stream",
          "text": [
            "/Users/chhounsophanon/.local/lib/python3.8/site-packages/sklearn/utils/validation.py:72: DataConversionWarning: A column-vector y was passed when a 1d array was expected. Please change the shape of y to (n_samples, ), for example using ravel().\n",
            "  return f(**kwargs)\n"
          ]
        }
      ],
      "source": [
        "lin_SVR = SVR(kernel = 'linear', C = 1e3).fit(x_train, y_train)\n",
        "lin_SVR_predicted = lin_SVR.predict(x_test)"
      ]
    },
    {
      "cell_type": "code",
      "execution_count": 70,
      "metadata": {
        "colab": {
          "base_uri": "https://localhost:8080/"
        },
        "id": "cK1wWpIKWfZF",
        "outputId": "159ff333-232c-4617-cb69-766b3c8a6698"
      },
      "outputs": [
        {
          "name": "stdout",
          "output_type": "stream",
          "text": [
            "The accuracy in Linear: -765.7038285105955\n"
          ]
        }
      ],
      "source": [
        "from sklearn.metrics import accuracy_score\n",
        "result1 = lin_SVR.score(x_test, y_test)\n",
        "print(\"The accuracy in Linear:\", result1)"
      ]
    }
  ],
  "metadata": {
    "accelerator": "GPU",
    "colab": {
      "name": "Comparation of LR_SVR_D-Tree(TGI_Final project).ipynb",
      "provenance": []
    },
    "gpuClass": "standard",
    "kernelspec": {
      "display_name": "Python 3.8.5 ('base')",
      "language": "python",
      "name": "python3"
    },
    "language_info": {
      "codemirror_mode": {
        "name": "ipython",
        "version": 3
      },
      "file_extension": ".py",
      "mimetype": "text/x-python",
      "name": "python",
      "nbconvert_exporter": "python",
      "pygments_lexer": "ipython3",
      "version": "3.8.5"
    },
    "vscode": {
      "interpreter": {
        "hash": "5ce4d8616aef6b9a242674db95ba29d7003c878aced4428beb2f1308555dd3bd"
      }
    }
  },
  "nbformat": 4,
  "nbformat_minor": 0
}
